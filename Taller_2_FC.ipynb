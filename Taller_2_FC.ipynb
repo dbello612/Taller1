{
  "nbformat": 4,
  "nbformat_minor": 0,
  "metadata": {
    "colab": {
      "provenance": [],
      "authorship_tag": "ABX9TyPLmuJRzPbXt2odXpzFppwG",
      "include_colab_link": true
    },
    "kernelspec": {
      "name": "python3",
      "display_name": "Python 3"
    },
    "language_info": {
      "name": "python"
    }
  },
  "cells": [
    {
      "cell_type": "markdown",
      "metadata": {
        "id": "view-in-github",
        "colab_type": "text"
      },
      "source": [
        "<a href=\"https://colab.research.google.com/github/dbello612/Taller1/blob/main/Taller_2_FC.ipynb\" target=\"_parent\"><img src=\"https://colab.research.google.com/assets/colab-badge.svg\" alt=\"Open In Colab\"/></a>"
      ]
    },
    {
      "cell_type": "markdown",
      "source": [
        "Grupo:\n",
        "Diana Bello y\n",
        "Juanita Rojas"
      ],
      "metadata": {
        "id": "8NnItaFt98kj"
      }
    },
    {
      "cell_type": "code",
      "source": [
        "import numpy as np\n",
        "import pandas as pd\n",
        "import matplotlib.pyplot as plt\n",
        "from scipy.optimize import minimize\n",
        "from scipy.optimize import linprog\n",
        "import cvxpy as cp"
      ],
      "metadata": {
        "id": "3yhLgrw_ihjj"
      },
      "execution_count": 7,
      "outputs": []
    },
    {
      "cell_type": "markdown",
      "source": [
        "1. La empresa XYZ produce dos productos: A y B. La ganancia por unidad de A es de $3 dólares y de B es de $5 dólares. Para su producción dispone de 500 unidades de materia prima, 1000 unidades de mano de obra y 2000 dólares de capital, de los cuales se necesitan para producir una unidad de:\n",
        "i) A: una unidad de materia prima, dos unidades de mano de obra y una unidad de capital.\n",
        "ii) B: una unidad de materia prima, cuatro unidades de mano de obra y dos unidades de\n",
        "capital.\n",
        "Además, se necesita producir al menos 100 unidades de A y 150 unidades de B para\n",
        "satisfacer la demanda del mercado. Encuentre la asignación óptima de A y B que maximizan las ganancias de la empresa.\n",
        "Para ello, formule un problema de LP utilizando Scipy."
      ],
      "metadata": {
        "id": "51sdcZmChOf0"
      }
    },
    {
      "cell_type": "code",
      "execution_count": 3,
      "metadata": {
        "colab": {
          "base_uri": "https://localhost:8080/"
        },
        "id": "4gFPswd45G63",
        "outputId": "974d835c-e97f-4efa-bcd3-83e7de4a8d3e"
      },
      "outputs": [
        {
          "output_type": "stream",
          "name": "stderr",
          "text": [
            "<ipython-input-3-bffa88038f93>:12: DeprecationWarning: `method='revised simplex'` is deprecated and will be removed in SciPy 1.11.0. Please use one of the HiGHS solvers (e.g. `method='highs'`) in new code.\n",
            "  ans1 = linprog(-x, A_ub=A, b_ub=b,\n"
          ]
        },
        {
          "output_type": "execute_result",
          "data": {
            "text/plain": [
              " message: Optimization terminated successfully.\n",
              " success: True\n",
              "  status: 0\n",
              "     fun: -1200.0\n",
              "       x: [ 1.000e+02  2.000e+02]\n",
              "     nit: 1"
            ]
          },
          "metadata": {},
          "execution_count": 3
        }
      ],
      "source": [
        "x = np.array([2,5])\n",
        "\n",
        "A = np.array([[1,1],\n",
        "              [2,4],\n",
        "              [1,2]])\n",
        "\n",
        "b = np.array([5000,1000,2000])\n",
        "\n",
        "bounds1 = [(100,None),\n",
        "           (150,None)]\n",
        "\n",
        "ans1 = linprog(-x, A_ub=A, b_ub=b,\n",
        "               bounds = bounds1, method='revised simplex')\n",
        "\n",
        "ans1"
      ]
    },
    {
      "cell_type": "markdown",
      "source": [
        "\n",
        "2. Usted desea invertir la suma de $100 millones en cuatro fondos que tienen diferentes retornos esperados (E(R)), así como diferentes ponderaciones en acciones de alto valor, gran tamaño y alta liquidez, como muestra la siguiente tabla:\n",
        "\n",
        "Estilo Fondo 1 Fondo 2 Fondo 3 Fondo 4\n",
        "Valor 50% 30% 25% 60%\n",
        "Tamaño 30% 10% 40% 20%\n",
        "Liquidez 20% 60% 35% 20%\n",
        "E(R) 10% 15% 16% 8%\n",
        "\n",
        "La asignación anterior debe contener al menos un 35% de acciones de alto valor, un 30% en tamaño y un 15% de acciones de liquidez. Encuentre una asignación factible con el retorno esperado más alto, bajo el supuesto de que solo se le permite mantener posiciones largas en los fondos.\n",
        "Formule y resuelva el problema de LP considerando las siguientes restricciones:\n",
        "\n",
        "0.5 x1 + 0.3 x2 + 0.25 x3 + 0.6 x4 ≥ 0.35 (valor)\n",
        "0.3 x1 + 0.1 x2 + 0.4 x3 + 0.2 x4 ≥ 0.30 (tamaño)\n",
        "0.2 x1 + 0.6 x2 + 0.35 x3 + 0.2 x4 ≥ 0.15 (liquidez)\n",
        "\n",
        "x1 + x2 + x3 + x4 = $100\n",
        "x1, x2, x3, x4 ≥ 0\n",
        "\n",
        "\n",
        "Nota: resuelva el problema anterior usando las librerías de Scipy y CVXPY de Python."
      ],
      "metadata": {
        "id": "fIa6vYkHhSLV"
      }
    },
    {
      "cell_type": "code",
      "source": [
        "x2 = np.array([0.10,0.15,0.16,0.08])\n",
        "\n",
        "A2 = np.array([[1,1,1,1]])\n",
        "b2 = np.array([1])\n",
        "d2 = np.array([[0.5, 0.3, 0.25, 0.6],\n",
        "               [0.3, 0.1, 0.4, 0.2],\n",
        "               [0.2, 0.6, 0.35, 0.2]])\n",
        "e2 = np.array([0.35,0.30,0.15])\n",
        "\n",
        "n=4\n",
        "y = cp.Variable(n)\n",
        "ob = cp.Minimize(-x2.T@y)\n",
        "cons = [cp.sum(y)==1, d2@y >= e2, y >= 0]\n",
        "prob = cp.Problem(ob, cons)\n",
        "result = prob.solve()\n",
        "ans2 = pd.DataFrame(y.value)\n",
        "pd.DataFrame((ans2).round(4).T)"
      ],
      "metadata": {
        "id": "v5P6Ty_DraNK",
        "colab": {
          "base_uri": "https://localhost:8080/",
          "height": 81
        },
        "outputId": "527d1d90-866c-4741-cc93-ff758acf1e23"
      },
      "execution_count": 9,
      "outputs": [
        {
          "output_type": "execute_result",
          "data": {
            "text/plain": [
              "     0       1       2       3\n",
              "0  0.0  0.1579  0.5789  0.2632"
            ],
            "text/html": [
              "\n",
              "  <div id=\"df-3af2d5c4-f90c-4a27-bf62-f5d4e3c95ebc\">\n",
              "    <div class=\"colab-df-container\">\n",
              "      <div>\n",
              "<style scoped>\n",
              "    .dataframe tbody tr th:only-of-type {\n",
              "        vertical-align: middle;\n",
              "    }\n",
              "\n",
              "    .dataframe tbody tr th {\n",
              "        vertical-align: top;\n",
              "    }\n",
              "\n",
              "    .dataframe thead th {\n",
              "        text-align: right;\n",
              "    }\n",
              "</style>\n",
              "<table border=\"1\" class=\"dataframe\">\n",
              "  <thead>\n",
              "    <tr style=\"text-align: right;\">\n",
              "      <th></th>\n",
              "      <th>0</th>\n",
              "      <th>1</th>\n",
              "      <th>2</th>\n",
              "      <th>3</th>\n",
              "    </tr>\n",
              "  </thead>\n",
              "  <tbody>\n",
              "    <tr>\n",
              "      <th>0</th>\n",
              "      <td>0.0</td>\n",
              "      <td>0.1579</td>\n",
              "      <td>0.5789</td>\n",
              "      <td>0.2632</td>\n",
              "    </tr>\n",
              "  </tbody>\n",
              "</table>\n",
              "</div>\n",
              "      <button class=\"colab-df-convert\" onclick=\"convertToInteractive('df-3af2d5c4-f90c-4a27-bf62-f5d4e3c95ebc')\"\n",
              "              title=\"Convert this dataframe to an interactive table.\"\n",
              "              style=\"display:none;\">\n",
              "        \n",
              "  <svg xmlns=\"http://www.w3.org/2000/svg\" height=\"24px\"viewBox=\"0 0 24 24\"\n",
              "       width=\"24px\">\n",
              "    <path d=\"M0 0h24v24H0V0z\" fill=\"none\"/>\n",
              "    <path d=\"M18.56 5.44l.94 2.06.94-2.06 2.06-.94-2.06-.94-.94-2.06-.94 2.06-2.06.94zm-11 1L8.5 8.5l.94-2.06 2.06-.94-2.06-.94L8.5 2.5l-.94 2.06-2.06.94zm10 10l.94 2.06.94-2.06 2.06-.94-2.06-.94-.94-2.06-.94 2.06-2.06.94z\"/><path d=\"M17.41 7.96l-1.37-1.37c-.4-.4-.92-.59-1.43-.59-.52 0-1.04.2-1.43.59L10.3 9.45l-7.72 7.72c-.78.78-.78 2.05 0 2.83L4 21.41c.39.39.9.59 1.41.59.51 0 1.02-.2 1.41-.59l7.78-7.78 2.81-2.81c.8-.78.8-2.07 0-2.86zM5.41 20L4 18.59l7.72-7.72 1.47 1.35L5.41 20z\"/>\n",
              "  </svg>\n",
              "      </button>\n",
              "      \n",
              "  <style>\n",
              "    .colab-df-container {\n",
              "      display:flex;\n",
              "      flex-wrap:wrap;\n",
              "      gap: 12px;\n",
              "    }\n",
              "\n",
              "    .colab-df-convert {\n",
              "      background-color: #E8F0FE;\n",
              "      border: none;\n",
              "      border-radius: 50%;\n",
              "      cursor: pointer;\n",
              "      display: none;\n",
              "      fill: #1967D2;\n",
              "      height: 32px;\n",
              "      padding: 0 0 0 0;\n",
              "      width: 32px;\n",
              "    }\n",
              "\n",
              "    .colab-df-convert:hover {\n",
              "      background-color: #E2EBFA;\n",
              "      box-shadow: 0px 1px 2px rgba(60, 64, 67, 0.3), 0px 1px 3px 1px rgba(60, 64, 67, 0.15);\n",
              "      fill: #174EA6;\n",
              "    }\n",
              "\n",
              "    [theme=dark] .colab-df-convert {\n",
              "      background-color: #3B4455;\n",
              "      fill: #D2E3FC;\n",
              "    }\n",
              "\n",
              "    [theme=dark] .colab-df-convert:hover {\n",
              "      background-color: #434B5C;\n",
              "      box-shadow: 0px 1px 3px 1px rgba(0, 0, 0, 0.15);\n",
              "      filter: drop-shadow(0px 1px 2px rgba(0, 0, 0, 0.3));\n",
              "      fill: #FFFFFF;\n",
              "    }\n",
              "  </style>\n",
              "\n",
              "      <script>\n",
              "        const buttonEl =\n",
              "          document.querySelector('#df-3af2d5c4-f90c-4a27-bf62-f5d4e3c95ebc button.colab-df-convert');\n",
              "        buttonEl.style.display =\n",
              "          google.colab.kernel.accessAllowed ? 'block' : 'none';\n",
              "\n",
              "        async function convertToInteractive(key) {\n",
              "          const element = document.querySelector('#df-3af2d5c4-f90c-4a27-bf62-f5d4e3c95ebc');\n",
              "          const dataTable =\n",
              "            await google.colab.kernel.invokeFunction('convertToInteractive',\n",
              "                                                     [key], {});\n",
              "          if (!dataTable) return;\n",
              "\n",
              "          const docLinkHtml = 'Like what you see? Visit the ' +\n",
              "            '<a target=\"_blank\" href=https://colab.research.google.com/notebooks/data_table.ipynb>data table notebook</a>'\n",
              "            + ' to learn more about interactive tables.';\n",
              "          element.innerHTML = '';\n",
              "          dataTable['output_type'] = 'display_data';\n",
              "          await google.colab.output.renderOutput(dataTable, element);\n",
              "          const docLink = document.createElement('div');\n",
              "          docLink.innerHTML = docLinkHtml;\n",
              "          element.appendChild(docLink);\n",
              "        }\n",
              "      </script>\n",
              "    </div>\n",
              "  </div>\n",
              "  "
            ]
          },
          "metadata": {},
          "execution_count": 9
        }
      ]
    },
    {
      "cell_type": "code",
      "source": [
        "\n"
      ],
      "metadata": {
        "id": "f6L6vGmfg6nf"
      },
      "execution_count": 3,
      "outputs": []
    },
    {
      "cell_type": "markdown",
      "source": [
        "3. La empresa XYZ se enfrente al siguiente problema de manejo de efectivo. Las cifras están expresadas en millones ($).\n",
        "\n",
        "1 2 3 4 5 6\n",
        "Mes Ene Feb Mar Abr May Jun\n",
        "FC neto -150 -100 200 -200 50 300\n",
        "Además, se sabe que la empresa cuenta con las siguientes fuentes de recursos:\n",
        "\n",
        "• Una línea de crédito de hasta $100 a una tasa de interés del 1% mensual.\n",
        "• Puede emitir papel comercial a 90 días con un interés total del 2% por un período de 3 meses.\n",
        "• Todos los meses se pueden invertir los fondos sobrantes a una tasa de interés del 0,3% mensual. Por ejemplo, la empresa podría hacer un depósito bancario que le reconoce esa tasa.\n",
        "Sobre este problema, la empresa desea saber si: ¿usar la línea de crédito en algunos de los meses le representa un alto costo? si es así ¿cuándo debería usarla? ¿cuánto cuesta? ¿qué pagos de intereses tendrá que hacer entre enero y junio? etc... Para responder a estos interrogantes, la empresa puede formular y resolver un problema de LP. Para la formulación del problema tener en cuenta lo siguiente:\n",
        "Variables:\n",
        "xj\n",
        ": monto dispuesto a pedir en la línea de crédito en el mes j, para j = 1,2,3,4,5.\n",
        "yj\n",
        ": monto emitido en el papel comercial en el mes j, para j = 1,2,3.\n",
        "zj\n",
        ": saldo de fondos (FC) en el mes j, para j = 1,2,3,4,5,6.\n",
        "Objetivo: Maximizar el saldo de los fondos (FC) en el mes 6 (Jun):\n",
        "\n",
        "máx z6\n",
        "\n",
        "Restricciones: Restricciones de los saldos en cada mes y límites en xj\n",
        ", yj y zj\n",
        "x1 + y1 − z1 = 150\n",
        "x2 + y2 −1.01 x1 + 1.003 z1 − z2 = 100\n",
        "x3 + y3 −1.01 x2 + 1.003 z2 − z3 = −200\n",
        "x4 − 1.02 y1 −1.01 x3 + 1.003 z3 − z4 = 200\n",
        "x5 − 1.02 y2 −1.01 x4 + 1.003 z4 − z5 = −50\n",
        "−1.02 y3 −1.01 x5 + 1.003 z5 − z6 = −300\n",
        "\n",
        "xj ≤ 100 para j = 1,2,3,4,5\n",
        "xj ≥ 0 para j = 1,2,3,4,5\n",
        "yj ≥ 0 para j = 1,2,3.\n",
        "zj ≥ 0 para j = 1,2,3,4,5\n",
        "\n",
        "Nota: resuelva el problema anterior usando las librerías de Scipy y CVXPY de Python.\n"
      ],
      "metadata": {
        "id": "05O5orkchJ3X"
      }
    },
    {
      "cell_type": "code",
      "source": [
        "x3 = np.array([0,0,0,0,0,0,0,0,0,0,0,0,0,1])#\n",
        "\n",
        "A3 = np.array([[1,0,0,0,0,1,0,0,-1,0,0,0,0,0],\n",
        "              [-1.01,1,0,0,0,0,1,0,1.003,-1,0,0,0,0],\n",
        "              [0,-1.01,1,0,0,0,0,1,0,1.003,-1,0,0,0],\n",
        "              [0,0,-1.01,1,0,-1.02,0,0,0,0,1.003,-1,0,0],\n",
        "              [0,0,0,-1.01,1,0,-1.02,0,0,0,0,1.003,-1,0],\n",
        "              [0,0,0,0,-1.01,0,0,-1.02,0,0,0,0,1.003,-1]])\n",
        "\n",
        "b3 = np.array([150,100,-200,200,-50,-300])\n",
        "\n",
        "bounds3 = [(0,100),\n",
        "       (0,100),\n",
        "       (0,100),\n",
        "       (0,100),\n",
        "       (0,100),\n",
        "       (0,None),\n",
        "       (0,None),\n",
        "       (0,None),\n",
        "       (0,None),\n",
        "       (0,None),\n",
        "       (0,None),\n",
        "       (0,None),\n",
        "       (0,None),\n",
        "       (0,None),]\n",
        "\n",
        "ans3 = linprog(-x3, A_eq = A3, b_eq = b3,\n",
        "              bounds = bounds3, method = 'revised simplex')\n",
        "\n",
        "ans3.x"
      ],
      "metadata": {
        "colab": {
          "base_uri": "https://localhost:8080/"
        },
        "id": "D2rgXTqghU9M",
        "outputId": "cf825951-32b8-4e40-f8bd-c9985d91f517"
      },
      "execution_count": 4,
      "outputs": [
        {
          "output_type": "stream",
          "name": "stderr",
          "text": [
            "<ipython-input-4-4f3430f3979f>:27: DeprecationWarning: `method='revised simplex'` is deprecated and will be removed in SciPy 1.11.0. Please use one of the HiGHS solvers (e.g. `method='highs'`) in new code.\n",
            "  ans3 = linprog(-x3, A_eq = A3, b_eq = b3,\n"
          ]
        },
        {
          "output_type": "execute_result",
          "data": {
            "text/plain": [
              "array([  0.        ,  50.98039216,   0.        ,   0.        ,\n",
              "         0.        , 150.        ,  49.01960784, 203.43436358,\n",
              "         0.        ,   0.        , 351.9441675 ,   0.        ,\n",
              "         0.        ,  92.49694915])"
            ]
          },
          "metadata": {},
          "execution_count": 4
        }
      ]
    },
    {
      "cell_type": "markdown",
      "source": [
        "4. La empresa XYZ desea encontrar el saldo óptimo que debe mantener en su cuenta\n",
        "bancaria en un horizonte de un mes buscando maximizar su rentabilidad total. Se sabe que la empresa espera recibir entradas de efectivo de: $500 en la primera semana, $300 en la segunda semana, $200 en la tercera semana y $400 en la cuarta semana. Todas las cifras se encuentran en millones de pesos. Además, la empresa debe realizar los siguientes pagos durante el mes: $350 en la primera semana, $400 en la segunda semana, $250 en la tercera semana y $200 en la cuarta semana y, para ello, debe mantener un saldo suficiente que respalde estas obligaciones.\n",
        "Para aprovechar la rentabilidad que ofrecen los saldos en cada momento, la empresa puede invertir sus recursos en un instrumento a corto plazo en el que recibe un rendimiento del 0,02% por día, pero al realizar esta operación debe incurrir en un costo de transacción del 0,01% del monto transferido.\n",
        "Formule un problema de LP utilizando Scipy que le permita maximizar la rentabilidad total de los saldos en su cuenta teniendo en cuenta las restricciones de sus flujos de efectivo."
      ],
      "metadata": {
        "id": "f_zxhBEQw3IY"
      }
    },
    {
      "cell_type": "code",
      "source": [
        "x4 = np.array([0,0,0,0,0,0,0,1])\n",
        "r4 = (1+0.0001)**7\n",
        "\n",
        "A4 = np.array([[1,0,0,0,-1,0,0,0],\n",
        "               [0,1,0,0,r4,-1,0,0],\n",
        "               [0,0,1,0,0,r4,-1,0],\n",
        "               [0,0,0,1,0,0,r4,-1]])\n",
        "b4 = np.array([[150,-100,-50,200]])\n",
        "ans4 = linprog(-x4,A_ub=A4,b_ub=-b4,method = 'revised simplex')"
      ],
      "metadata": {
        "colab": {
          "base_uri": "https://localhost:8080/"
        },
        "id": "4l4p-oTB3T4v",
        "outputId": "7fc4dff0-f0b7-4f3c-bba1-6ef344123c8c"
      },
      "execution_count": 5,
      "outputs": [
        {
          "output_type": "stream",
          "name": "stderr",
          "text": [
            "<ipython-input-5-b406c2c48bca>:9: DeprecationWarning: `method='revised simplex'` is deprecated and will be removed in SciPy 1.11.0. Please use one of the HiGHS solvers (e.g. `method='highs'`) in new code.\n",
            "  ans4 = linprog(-x4,A_ub=A4,b_ub=-b4,method = 'revised simplex')\n"
          ]
        }
      ]
    },
    {
      "cell_type": "markdown",
      "source": [],
      "metadata": {
        "id": "_9__V4ztrwJO"
      }
    },
    {
      "cell_type": "markdown",
      "source": [
        "5. La empresa XYZ tiene que decidir como distribuye su presupuesto $10.000 millones y la mano de obra (horas de trabajo) en tres departamentos: ventas, marketing y producción buscando maximizar sus ganancias. Para ello, se sabe que cada departamento le proporciona a la empresa las siguientes ganancias: ventas: $5, marketing: 8$, y producción: $10. Esta asignación debe cumplir las siguientes restricciones:\n",
        "i. El total de horas de trabajo disponibles es de 1.000.\n",
        "ii. El departamento de ventas debe recibir al menos el 20% del presupuesto total.\n",
        "iii. El departamento de marketing debe recibir al menos el 30% del total de horas de\n",
        "trabajo disponibles.\n",
        "iv. El departamento de producción debe recibir al menos el 25% del total de horas de\n",
        "trabajo disponibles.\n",
        "Formule un problema de LP utilizando Scipy que le permita maximizar"
      ],
      "metadata": {
        "id": "xk7-qx0dwpmc"
      }
    },
    {
      "cell_type": "code",
      "source": [
        "x = np.array([0,0,0,5,8,10])\n",
        "\n",
        "A5 = np.array([[0,0,0,1,0,0],\n",
        "               [0,1,0,0,0,0],\n",
        "               [0,0,1,0,0,0],\n",
        "               [0,0,0,0,1,0],\n",
        "               [0,0,0,0,0,1]])\n",
        "\n",
        "b5 = np.array([2000,300,250,2000,2000])\n",
        "\n",
        "A6 = np.array([[1,1,1,0,0,0],[0,0,0,1,1,1]])\n",
        "b6 = np.array([1000,10000])\n",
        "\n",
        "ans5 = linprog(-x, A_ub = A5, b_ub=b5, A_eq=A6, b_eq=b6, method ='simplex')\n",
        "print(round(pd.DataFrame(ans5.x),2))"
      ],
      "metadata": {
        "colab": {
          "base_uri": "https://localhost:8080/"
        },
        "id": "oiyfLBZMtlXv",
        "outputId": "930a054a-3143-45f4-9c50-9c30a7e41242"
      },
      "execution_count": 6,
      "outputs": [
        {
          "output_type": "stream",
          "name": "stdout",
          "text": [
            "        0\n",
            "0   450.0\n",
            "1   300.0\n",
            "2   250.0\n",
            "3  2000.0\n",
            "4  2000.0\n",
            "5  2000.0\n"
          ]
        },
        {
          "output_type": "stream",
          "name": "stderr",
          "text": [
            "<ipython-input-6-450b04a6d66a>:14: DeprecationWarning: `method='simplex'` is deprecated and will be removed in SciPy 1.11.0. Please use one of the HiGHS solvers (e.g. `method='highs'`) in new code.\n",
            "  ans5 = linprog(-x, A_ub = A5, b_ub=b5, A_eq=A6, b_eq=b6, method ='simplex')\n"
          ]
        }
      ]
    },
    {
      "cell_type": "markdown",
      "source": [
        "6. Considere una empresa con tres puntos potenciales para ubicar sus instalaciones (J = {1,2,3}) y cinco puntos de demanda que debe satisfacer (I = {1,2,3,4,5}). La apertura del punto j ∈ J tiene un costo fijo de funcionamiento fj, independientemente del volumen de ventas que maneje. Este volumen está limitado a una determinada cantidad máxima que puede manejarse anualmente (Mj). Además, hay un costo de transporte cij para ir desde el punto j para abastecer la demanda en el punto i. Las siguientes tablas muestran los datos de demanda en cada punto:"
      ],
      "metadata": {
        "id": "ozh6U0F89B1P"
      }
    },
    {
      "cell_type": "code",
      "source": [],
      "metadata": {
        "id": "sZ2z8JznulLW"
      },
      "execution_count": 6,
      "outputs": []
    }
  ]
}