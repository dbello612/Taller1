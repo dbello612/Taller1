{
  "cells": [
    {
      "cell_type": "markdown",
      "metadata": {
        "id": "view-in-github",
        "colab_type": "text"
      },
      "source": [
        "<a href=\"https://colab.research.google.com/github/dbello612/Taller1/blob/main/Taller_1FC_Juanita_Rojas_%26_Diana_Bello.ipynb\" target=\"_parent\"><img src=\"https://colab.research.google.com/assets/colab-badge.svg\" alt=\"Open In Colab\"/></a>"
      ]
    },
    {
      "cell_type": "markdown",
      "metadata": {
        "id": "XDaGjrGHxJh6"
      },
      "source": [
        "Universidad Externado de Colombia \n",
        "\n",
        "---\n",
        "\n",
        "Finanzas Computacionales \n",
        "Taller 1"
      ]
    },
    {
      "cell_type": "markdown",
      "metadata": {
        "id": "0nLYbHwFwxN_"
      },
      "source": [
        "Integrantes del grupo:\n",
        "\n",
        "\n",
        "*   Juanita Rojas Navarro\n",
        "*   Diana Bello \n",
        "\n"
      ]
    },
    {
      "cell_type": "markdown",
      "metadata": {
        "id": "UInwWbn0xI4l"
      },
      "source": [
        "1. Escoja dos acciones de su preferencia en el mercado estadounidense. Para estas dos acciones descargue las series de precios diarios para el periodo Ene-21 a Dic-2022 usando pandas datareader. Con esta información:"
      ]
    },
    {
      "cell_type": "markdown",
      "metadata": {
        "id": "MsFiVHB5xZ7T"
      },
      "source": [
        "a. Calcule los retornos logarítmicos diarios, mensuales y anualizados. Presente los resultados en una tabla."
      ]
    },
    {
      "cell_type": "code",
      "execution_count": null,
      "metadata": {
        "id": "Q7tDtso514wj"
      },
      "outputs": [],
      "source": [
        "!pip --quiet install yfinance\n",
        "import numpy as np\n",
        "import yfinance as yf \n",
        "import pandas as pd\n",
        "from scipy.stats import norm\n",
        "import scipy.stats as stats\n",
        "import matplotlib.pyplot as plt"
      ]
    },
    {
      "cell_type": "code",
      "execution_count": null,
      "metadata": {
        "id": "U0nE5c9Q3tV0"
      },
      "outputs": [],
      "source": [
        "import pandas_datareader.data as web"
      ]
    },
    {
      "cell_type": "code",
      "execution_count": null,
      "metadata": {
        "id": "-ppfi8s8ycDb"
      },
      "outputs": [],
      "source": [
        "yf.pdr_override()"
      ]
    },
    {
      "cell_type": "code",
      "execution_count": null,
      "metadata": {
        "colab": {
          "base_uri": "https://localhost:8080/",
          "height": 472
        },
        "id": "MUGGBIXI334B",
        "outputId": "3ed63b37-84d2-4190-b10b-19bf4f61dbe9"
      },
      "outputs": [
        {
          "output_type": "stream",
          "name": "stdout",
          "text": [
            "[*********************100%***********************]  2 of 2 completed\n"
          ]
        },
        {
          "output_type": "execute_result",
          "data": {
            "text/plain": [
              "                  NRBO   VLON\n",
              "Date                         \n",
              "2021-01-04  154.800003    NaN\n",
              "2021-01-05  167.100006    NaN\n",
              "2021-01-06  200.399994    NaN\n",
              "2021-01-07  176.100006    NaN\n",
              "2021-01-08  187.500000    NaN\n",
              "...                ...    ...\n",
              "2022-12-23    0.813000  0.282\n",
              "2022-12-27    0.840000  0.278\n",
              "2022-12-28    0.680000  0.260\n",
              "2022-12-29    0.675000  0.283\n",
              "2022-12-30    0.718000  0.290\n",
              "\n",
              "[503 rows x 2 columns]"
            ],
            "text/html": [
              "\n",
              "  <div id=\"df-a822b969-7150-4993-8d5a-f25ce5008972\">\n",
              "    <div class=\"colab-df-container\">\n",
              "      <div>\n",
              "<style scoped>\n",
              "    .dataframe tbody tr th:only-of-type {\n",
              "        vertical-align: middle;\n",
              "    }\n",
              "\n",
              "    .dataframe tbody tr th {\n",
              "        vertical-align: top;\n",
              "    }\n",
              "\n",
              "    .dataframe thead th {\n",
              "        text-align: right;\n",
              "    }\n",
              "</style>\n",
              "<table border=\"1\" class=\"dataframe\">\n",
              "  <thead>\n",
              "    <tr style=\"text-align: right;\">\n",
              "      <th></th>\n",
              "      <th>NRBO</th>\n",
              "      <th>VLON</th>\n",
              "    </tr>\n",
              "    <tr>\n",
              "      <th>Date</th>\n",
              "      <th></th>\n",
              "      <th></th>\n",
              "    </tr>\n",
              "  </thead>\n",
              "  <tbody>\n",
              "    <tr>\n",
              "      <th>2021-01-04</th>\n",
              "      <td>154.800003</td>\n",
              "      <td>NaN</td>\n",
              "    </tr>\n",
              "    <tr>\n",
              "      <th>2021-01-05</th>\n",
              "      <td>167.100006</td>\n",
              "      <td>NaN</td>\n",
              "    </tr>\n",
              "    <tr>\n",
              "      <th>2021-01-06</th>\n",
              "      <td>200.399994</td>\n",
              "      <td>NaN</td>\n",
              "    </tr>\n",
              "    <tr>\n",
              "      <th>2021-01-07</th>\n",
              "      <td>176.100006</td>\n",
              "      <td>NaN</td>\n",
              "    </tr>\n",
              "    <tr>\n",
              "      <th>2021-01-08</th>\n",
              "      <td>187.500000</td>\n",
              "      <td>NaN</td>\n",
              "    </tr>\n",
              "    <tr>\n",
              "      <th>...</th>\n",
              "      <td>...</td>\n",
              "      <td>...</td>\n",
              "    </tr>\n",
              "    <tr>\n",
              "      <th>2022-12-23</th>\n",
              "      <td>0.813000</td>\n",
              "      <td>0.282</td>\n",
              "    </tr>\n",
              "    <tr>\n",
              "      <th>2022-12-27</th>\n",
              "      <td>0.840000</td>\n",
              "      <td>0.278</td>\n",
              "    </tr>\n",
              "    <tr>\n",
              "      <th>2022-12-28</th>\n",
              "      <td>0.680000</td>\n",
              "      <td>0.260</td>\n",
              "    </tr>\n",
              "    <tr>\n",
              "      <th>2022-12-29</th>\n",
              "      <td>0.675000</td>\n",
              "      <td>0.283</td>\n",
              "    </tr>\n",
              "    <tr>\n",
              "      <th>2022-12-30</th>\n",
              "      <td>0.718000</td>\n",
              "      <td>0.290</td>\n",
              "    </tr>\n",
              "  </tbody>\n",
              "</table>\n",
              "<p>503 rows × 2 columns</p>\n",
              "</div>\n",
              "      <button class=\"colab-df-convert\" onclick=\"convertToInteractive('df-a822b969-7150-4993-8d5a-f25ce5008972')\"\n",
              "              title=\"Convert this dataframe to an interactive table.\"\n",
              "              style=\"display:none;\">\n",
              "        \n",
              "  <svg xmlns=\"http://www.w3.org/2000/svg\" height=\"24px\"viewBox=\"0 0 24 24\"\n",
              "       width=\"24px\">\n",
              "    <path d=\"M0 0h24v24H0V0z\" fill=\"none\"/>\n",
              "    <path d=\"M18.56 5.44l.94 2.06.94-2.06 2.06-.94-2.06-.94-.94-2.06-.94 2.06-2.06.94zm-11 1L8.5 8.5l.94-2.06 2.06-.94-2.06-.94L8.5 2.5l-.94 2.06-2.06.94zm10 10l.94 2.06.94-2.06 2.06-.94-2.06-.94-.94-2.06-.94 2.06-2.06.94z\"/><path d=\"M17.41 7.96l-1.37-1.37c-.4-.4-.92-.59-1.43-.59-.52 0-1.04.2-1.43.59L10.3 9.45l-7.72 7.72c-.78.78-.78 2.05 0 2.83L4 21.41c.39.39.9.59 1.41.59.51 0 1.02-.2 1.41-.59l7.78-7.78 2.81-2.81c.8-.78.8-2.07 0-2.86zM5.41 20L4 18.59l7.72-7.72 1.47 1.35L5.41 20z\"/>\n",
              "  </svg>\n",
              "      </button>\n",
              "      \n",
              "  <style>\n",
              "    .colab-df-container {\n",
              "      display:flex;\n",
              "      flex-wrap:wrap;\n",
              "      gap: 12px;\n",
              "    }\n",
              "\n",
              "    .colab-df-convert {\n",
              "      background-color: #E8F0FE;\n",
              "      border: none;\n",
              "      border-radius: 50%;\n",
              "      cursor: pointer;\n",
              "      display: none;\n",
              "      fill: #1967D2;\n",
              "      height: 32px;\n",
              "      padding: 0 0 0 0;\n",
              "      width: 32px;\n",
              "    }\n",
              "\n",
              "    .colab-df-convert:hover {\n",
              "      background-color: #E2EBFA;\n",
              "      box-shadow: 0px 1px 2px rgba(60, 64, 67, 0.3), 0px 1px 3px 1px rgba(60, 64, 67, 0.15);\n",
              "      fill: #174EA6;\n",
              "    }\n",
              "\n",
              "    [theme=dark] .colab-df-convert {\n",
              "      background-color: #3B4455;\n",
              "      fill: #D2E3FC;\n",
              "    }\n",
              "\n",
              "    [theme=dark] .colab-df-convert:hover {\n",
              "      background-color: #434B5C;\n",
              "      box-shadow: 0px 1px 3px 1px rgba(0, 0, 0, 0.15);\n",
              "      filter: drop-shadow(0px 1px 2px rgba(0, 0, 0, 0.3));\n",
              "      fill: #FFFFFF;\n",
              "    }\n",
              "  </style>\n",
              "\n",
              "      <script>\n",
              "        const buttonEl =\n",
              "          document.querySelector('#df-a822b969-7150-4993-8d5a-f25ce5008972 button.colab-df-convert');\n",
              "        buttonEl.style.display =\n",
              "          google.colab.kernel.accessAllowed ? 'block' : 'none';\n",
              "\n",
              "        async function convertToInteractive(key) {\n",
              "          const element = document.querySelector('#df-a822b969-7150-4993-8d5a-f25ce5008972');\n",
              "          const dataTable =\n",
              "            await google.colab.kernel.invokeFunction('convertToInteractive',\n",
              "                                                     [key], {});\n",
              "          if (!dataTable) return;\n",
              "\n",
              "          const docLinkHtml = 'Like what you see? Visit the ' +\n",
              "            '<a target=\"_blank\" href=https://colab.research.google.com/notebooks/data_table.ipynb>data table notebook</a>'\n",
              "            + ' to learn more about interactive tables.';\n",
              "          element.innerHTML = '';\n",
              "          dataTable['output_type'] = 'display_data';\n",
              "          await google.colab.output.renderOutput(dataTable, element);\n",
              "          const docLink = document.createElement('div');\n",
              "          docLink.innerHTML = docLinkHtml;\n",
              "          element.appendChild(docLink);\n",
              "        }\n",
              "      </script>\n",
              "    </div>\n",
              "  </div>\n",
              "  "
            ]
          },
          "metadata": {},
          "execution_count": 166
        }
      ],
      "source": [
        "df = web.DataReader(\"VLON, NRBO\", start = \"2021-01-01\", end = \"2022-12-31\")[\"Adj Close\"]\n",
        "df"
      ]
    },
    {
      "cell_type": "code",
      "execution_count": null,
      "metadata": {
        "colab": {
          "base_uri": "https://localhost:8080/",
          "height": 455
        },
        "id": "Jbdc_zukYFPy",
        "outputId": "632643e2-9079-47a3-c6c1-52718e61354b"
      },
      "outputs": [
        {
          "output_type": "execute_result",
          "data": {
            "text/plain": [
              "                NRBO      VLON\n",
              "Date                          \n",
              "2021-02-11 -0.023236  0.010582\n",
              "2021-02-12 -0.003623  0.029814\n",
              "2021-02-16  0.026859  0.000000\n",
              "2021-02-17 -0.014235 -0.048407\n",
              "2021-02-18 -0.036500 -0.014855\n",
              "...              ...       ...\n",
              "2022-12-23 -0.461666 -0.144990\n",
              "2022-12-27  0.032671 -0.014286\n",
              "2022-12-28 -0.211309 -0.066940\n",
              "2022-12-29 -0.007380  0.084765\n",
              "2022-12-30  0.061757  0.024434\n",
              "\n",
              "[476 rows x 2 columns]"
            ],
            "text/html": [
              "\n",
              "  <div id=\"df-9d2981ff-bd4f-4d68-bc27-a874a12fc5ec\">\n",
              "    <div class=\"colab-df-container\">\n",
              "      <div>\n",
              "<style scoped>\n",
              "    .dataframe tbody tr th:only-of-type {\n",
              "        vertical-align: middle;\n",
              "    }\n",
              "\n",
              "    .dataframe tbody tr th {\n",
              "        vertical-align: top;\n",
              "    }\n",
              "\n",
              "    .dataframe thead th {\n",
              "        text-align: right;\n",
              "    }\n",
              "</style>\n",
              "<table border=\"1\" class=\"dataframe\">\n",
              "  <thead>\n",
              "    <tr style=\"text-align: right;\">\n",
              "      <th></th>\n",
              "      <th>NRBO</th>\n",
              "      <th>VLON</th>\n",
              "    </tr>\n",
              "    <tr>\n",
              "      <th>Date</th>\n",
              "      <th></th>\n",
              "      <th></th>\n",
              "    </tr>\n",
              "  </thead>\n",
              "  <tbody>\n",
              "    <tr>\n",
              "      <th>2021-02-11</th>\n",
              "      <td>-0.023236</td>\n",
              "      <td>0.010582</td>\n",
              "    </tr>\n",
              "    <tr>\n",
              "      <th>2021-02-12</th>\n",
              "      <td>-0.003623</td>\n",
              "      <td>0.029814</td>\n",
              "    </tr>\n",
              "    <tr>\n",
              "      <th>2021-02-16</th>\n",
              "      <td>0.026859</td>\n",
              "      <td>0.000000</td>\n",
              "    </tr>\n",
              "    <tr>\n",
              "      <th>2021-02-17</th>\n",
              "      <td>-0.014235</td>\n",
              "      <td>-0.048407</td>\n",
              "    </tr>\n",
              "    <tr>\n",
              "      <th>2021-02-18</th>\n",
              "      <td>-0.036500</td>\n",
              "      <td>-0.014855</td>\n",
              "    </tr>\n",
              "    <tr>\n",
              "      <th>...</th>\n",
              "      <td>...</td>\n",
              "      <td>...</td>\n",
              "    </tr>\n",
              "    <tr>\n",
              "      <th>2022-12-23</th>\n",
              "      <td>-0.461666</td>\n",
              "      <td>-0.144990</td>\n",
              "    </tr>\n",
              "    <tr>\n",
              "      <th>2022-12-27</th>\n",
              "      <td>0.032671</td>\n",
              "      <td>-0.014286</td>\n",
              "    </tr>\n",
              "    <tr>\n",
              "      <th>2022-12-28</th>\n",
              "      <td>-0.211309</td>\n",
              "      <td>-0.066940</td>\n",
              "    </tr>\n",
              "    <tr>\n",
              "      <th>2022-12-29</th>\n",
              "      <td>-0.007380</td>\n",
              "      <td>0.084765</td>\n",
              "    </tr>\n",
              "    <tr>\n",
              "      <th>2022-12-30</th>\n",
              "      <td>0.061757</td>\n",
              "      <td>0.024434</td>\n",
              "    </tr>\n",
              "  </tbody>\n",
              "</table>\n",
              "<p>476 rows × 2 columns</p>\n",
              "</div>\n",
              "      <button class=\"colab-df-convert\" onclick=\"convertToInteractive('df-9d2981ff-bd4f-4d68-bc27-a874a12fc5ec')\"\n",
              "              title=\"Convert this dataframe to an interactive table.\"\n",
              "              style=\"display:none;\">\n",
              "        \n",
              "  <svg xmlns=\"http://www.w3.org/2000/svg\" height=\"24px\"viewBox=\"0 0 24 24\"\n",
              "       width=\"24px\">\n",
              "    <path d=\"M0 0h24v24H0V0z\" fill=\"none\"/>\n",
              "    <path d=\"M18.56 5.44l.94 2.06.94-2.06 2.06-.94-2.06-.94-.94-2.06-.94 2.06-2.06.94zm-11 1L8.5 8.5l.94-2.06 2.06-.94-2.06-.94L8.5 2.5l-.94 2.06-2.06.94zm10 10l.94 2.06.94-2.06 2.06-.94-2.06-.94-.94-2.06-.94 2.06-2.06.94z\"/><path d=\"M17.41 7.96l-1.37-1.37c-.4-.4-.92-.59-1.43-.59-.52 0-1.04.2-1.43.59L10.3 9.45l-7.72 7.72c-.78.78-.78 2.05 0 2.83L4 21.41c.39.39.9.59 1.41.59.51 0 1.02-.2 1.41-.59l7.78-7.78 2.81-2.81c.8-.78.8-2.07 0-2.86zM5.41 20L4 18.59l7.72-7.72 1.47 1.35L5.41 20z\"/>\n",
              "  </svg>\n",
              "      </button>\n",
              "      \n",
              "  <style>\n",
              "    .colab-df-container {\n",
              "      display:flex;\n",
              "      flex-wrap:wrap;\n",
              "      gap: 12px;\n",
              "    }\n",
              "\n",
              "    .colab-df-convert {\n",
              "      background-color: #E8F0FE;\n",
              "      border: none;\n",
              "      border-radius: 50%;\n",
              "      cursor: pointer;\n",
              "      display: none;\n",
              "      fill: #1967D2;\n",
              "      height: 32px;\n",
              "      padding: 0 0 0 0;\n",
              "      width: 32px;\n",
              "    }\n",
              "\n",
              "    .colab-df-convert:hover {\n",
              "      background-color: #E2EBFA;\n",
              "      box-shadow: 0px 1px 2px rgba(60, 64, 67, 0.3), 0px 1px 3px 1px rgba(60, 64, 67, 0.15);\n",
              "      fill: #174EA6;\n",
              "    }\n",
              "\n",
              "    [theme=dark] .colab-df-convert {\n",
              "      background-color: #3B4455;\n",
              "      fill: #D2E3FC;\n",
              "    }\n",
              "\n",
              "    [theme=dark] .colab-df-convert:hover {\n",
              "      background-color: #434B5C;\n",
              "      box-shadow: 0px 1px 3px 1px rgba(0, 0, 0, 0.15);\n",
              "      filter: drop-shadow(0px 1px 2px rgba(0, 0, 0, 0.3));\n",
              "      fill: #FFFFFF;\n",
              "    }\n",
              "  </style>\n",
              "\n",
              "      <script>\n",
              "        const buttonEl =\n",
              "          document.querySelector('#df-9d2981ff-bd4f-4d68-bc27-a874a12fc5ec button.colab-df-convert');\n",
              "        buttonEl.style.display =\n",
              "          google.colab.kernel.accessAllowed ? 'block' : 'none';\n",
              "\n",
              "        async function convertToInteractive(key) {\n",
              "          const element = document.querySelector('#df-9d2981ff-bd4f-4d68-bc27-a874a12fc5ec');\n",
              "          const dataTable =\n",
              "            await google.colab.kernel.invokeFunction('convertToInteractive',\n",
              "                                                     [key], {});\n",
              "          if (!dataTable) return;\n",
              "\n",
              "          const docLinkHtml = 'Like what you see? Visit the ' +\n",
              "            '<a target=\"_blank\" href=https://colab.research.google.com/notebooks/data_table.ipynb>data table notebook</a>'\n",
              "            + ' to learn more about interactive tables.';\n",
              "          element.innerHTML = '';\n",
              "          dataTable['output_type'] = 'display_data';\n",
              "          await google.colab.output.renderOutput(dataTable, element);\n",
              "          const docLink = document.createElement('div');\n",
              "          docLink.innerHTML = docLinkHtml;\n",
              "          element.appendChild(docLink);\n",
              "        }\n",
              "      </script>\n",
              "    </div>\n",
              "  </div>\n",
              "  "
            ]
          },
          "metadata": {},
          "execution_count": 167
        }
      ],
      "source": [
        "retorno = np.log(df).diff()\n",
        "retorno = retorno.dropna()\n",
        "retorno"
      ]
    },
    {
      "cell_type": "code",
      "execution_count": null,
      "metadata": {
        "colab": {
          "base_uri": "https://localhost:8080/"
        },
        "id": "QMqUIZlh55bx",
        "outputId": "a6d98cab-1a1a-4ea9-f3ec-64b255280b78"
      },
      "outputs": [
        {
          "output_type": "execute_result",
          "data": {
            "text/plain": [
              "NRBO   -0.011483\n",
              "VLON   -0.006839\n",
              "dtype: float64"
            ]
          },
          "metadata": {},
          "execution_count": 168
        }
      ],
      "source": [
        "#Retorno diario\n",
        "retorno_1d = retorno.mean()\n",
        "retorno_1d"
      ]
    },
    {
      "cell_type": "code",
      "execution_count": null,
      "metadata": {
        "colab": {
          "base_uri": "https://localhost:8080/"
        },
        "id": "6dv4Wxf27mpo",
        "outputId": "eb2cd726-5acf-475a-e0f5-5abaddd12bb5"
      },
      "outputs": [
        {
          "output_type": "execute_result",
          "data": {
            "text/plain": [
              "NRBO   -0.241143\n",
              "VLON   -0.143622\n",
              "dtype: float64"
            ]
          },
          "metadata": {},
          "execution_count": 169
        }
      ],
      "source": [
        "#Retorno mensual\n",
        "retorno_1mo = retorno.mean()*21\n",
        "retorno_1mo"
      ]
    },
    {
      "cell_type": "code",
      "execution_count": null,
      "metadata": {
        "colab": {
          "base_uri": "https://localhost:8080/"
        },
        "id": "44VixJ2m70sF",
        "outputId": "7daa15af-0081-48bf-f781-126027eb101f"
      },
      "outputs": [
        {
          "output_type": "execute_result",
          "data": {
            "text/plain": [
              "NRBO   -2.893715\n",
              "VLON   -1.723469\n",
              "dtype: float64"
            ]
          },
          "metadata": {},
          "execution_count": 170
        }
      ],
      "source": [
        "#retorno anual\n",
        "retorno_1y = retorno.mean()*252\n",
        "retorno_1y "
      ]
    },
    {
      "cell_type": "code",
      "execution_count": null,
      "metadata": {
        "colab": {
          "base_uri": "https://localhost:8080/",
          "height": 112
        },
        "id": "E0AnTjyg-Qpy",
        "outputId": "3f21e633-3a1b-4e29-943d-84ac0755ab68"
      },
      "outputs": [
        {
          "output_type": "execute_result",
          "data": {
            "text/plain": [
              "        Diario   Mensual     Anual\n",
              "NRBO -0.011483 -0.241143 -2.893715\n",
              "VLON -0.006839 -0.143622 -1.723469"
            ],
            "text/html": [
              "\n",
              "  <div id=\"df-d6fab632-53ce-459c-8d30-5061701bf00c\">\n",
              "    <div class=\"colab-df-container\">\n",
              "      <div>\n",
              "<style scoped>\n",
              "    .dataframe tbody tr th:only-of-type {\n",
              "        vertical-align: middle;\n",
              "    }\n",
              "\n",
              "    .dataframe tbody tr th {\n",
              "        vertical-align: top;\n",
              "    }\n",
              "\n",
              "    .dataframe thead th {\n",
              "        text-align: right;\n",
              "    }\n",
              "</style>\n",
              "<table border=\"1\" class=\"dataframe\">\n",
              "  <thead>\n",
              "    <tr style=\"text-align: right;\">\n",
              "      <th></th>\n",
              "      <th>Diario</th>\n",
              "      <th>Mensual</th>\n",
              "      <th>Anual</th>\n",
              "    </tr>\n",
              "  </thead>\n",
              "  <tbody>\n",
              "    <tr>\n",
              "      <th>NRBO</th>\n",
              "      <td>-0.011483</td>\n",
              "      <td>-0.241143</td>\n",
              "      <td>-2.893715</td>\n",
              "    </tr>\n",
              "    <tr>\n",
              "      <th>VLON</th>\n",
              "      <td>-0.006839</td>\n",
              "      <td>-0.143622</td>\n",
              "      <td>-1.723469</td>\n",
              "    </tr>\n",
              "  </tbody>\n",
              "</table>\n",
              "</div>\n",
              "      <button class=\"colab-df-convert\" onclick=\"convertToInteractive('df-d6fab632-53ce-459c-8d30-5061701bf00c')\"\n",
              "              title=\"Convert this dataframe to an interactive table.\"\n",
              "              style=\"display:none;\">\n",
              "        \n",
              "  <svg xmlns=\"http://www.w3.org/2000/svg\" height=\"24px\"viewBox=\"0 0 24 24\"\n",
              "       width=\"24px\">\n",
              "    <path d=\"M0 0h24v24H0V0z\" fill=\"none\"/>\n",
              "    <path d=\"M18.56 5.44l.94 2.06.94-2.06 2.06-.94-2.06-.94-.94-2.06-.94 2.06-2.06.94zm-11 1L8.5 8.5l.94-2.06 2.06-.94-2.06-.94L8.5 2.5l-.94 2.06-2.06.94zm10 10l.94 2.06.94-2.06 2.06-.94-2.06-.94-.94-2.06-.94 2.06-2.06.94z\"/><path d=\"M17.41 7.96l-1.37-1.37c-.4-.4-.92-.59-1.43-.59-.52 0-1.04.2-1.43.59L10.3 9.45l-7.72 7.72c-.78.78-.78 2.05 0 2.83L4 21.41c.39.39.9.59 1.41.59.51 0 1.02-.2 1.41-.59l7.78-7.78 2.81-2.81c.8-.78.8-2.07 0-2.86zM5.41 20L4 18.59l7.72-7.72 1.47 1.35L5.41 20z\"/>\n",
              "  </svg>\n",
              "      </button>\n",
              "      \n",
              "  <style>\n",
              "    .colab-df-container {\n",
              "      display:flex;\n",
              "      flex-wrap:wrap;\n",
              "      gap: 12px;\n",
              "    }\n",
              "\n",
              "    .colab-df-convert {\n",
              "      background-color: #E8F0FE;\n",
              "      border: none;\n",
              "      border-radius: 50%;\n",
              "      cursor: pointer;\n",
              "      display: none;\n",
              "      fill: #1967D2;\n",
              "      height: 32px;\n",
              "      padding: 0 0 0 0;\n",
              "      width: 32px;\n",
              "    }\n",
              "\n",
              "    .colab-df-convert:hover {\n",
              "      background-color: #E2EBFA;\n",
              "      box-shadow: 0px 1px 2px rgba(60, 64, 67, 0.3), 0px 1px 3px 1px rgba(60, 64, 67, 0.15);\n",
              "      fill: #174EA6;\n",
              "    }\n",
              "\n",
              "    [theme=dark] .colab-df-convert {\n",
              "      background-color: #3B4455;\n",
              "      fill: #D2E3FC;\n",
              "    }\n",
              "\n",
              "    [theme=dark] .colab-df-convert:hover {\n",
              "      background-color: #434B5C;\n",
              "      box-shadow: 0px 1px 3px 1px rgba(0, 0, 0, 0.15);\n",
              "      filter: drop-shadow(0px 1px 2px rgba(0, 0, 0, 0.3));\n",
              "      fill: #FFFFFF;\n",
              "    }\n",
              "  </style>\n",
              "\n",
              "      <script>\n",
              "        const buttonEl =\n",
              "          document.querySelector('#df-d6fab632-53ce-459c-8d30-5061701bf00c button.colab-df-convert');\n",
              "        buttonEl.style.display =\n",
              "          google.colab.kernel.accessAllowed ? 'block' : 'none';\n",
              "\n",
              "        async function convertToInteractive(key) {\n",
              "          const element = document.querySelector('#df-d6fab632-53ce-459c-8d30-5061701bf00c');\n",
              "          const dataTable =\n",
              "            await google.colab.kernel.invokeFunction('convertToInteractive',\n",
              "                                                     [key], {});\n",
              "          if (!dataTable) return;\n",
              "\n",
              "          const docLinkHtml = 'Like what you see? Visit the ' +\n",
              "            '<a target=\"_blank\" href=https://colab.research.google.com/notebooks/data_table.ipynb>data table notebook</a>'\n",
              "            + ' to learn more about interactive tables.';\n",
              "          element.innerHTML = '';\n",
              "          dataTable['output_type'] = 'display_data';\n",
              "          await google.colab.output.renderOutput(dataTable, element);\n",
              "          const docLink = document.createElement('div');\n",
              "          docLink.innerHTML = docLinkHtml;\n",
              "          element.appendChild(docLink);\n",
              "        }\n",
              "      </script>\n",
              "    </div>\n",
              "  </div>\n",
              "  "
            ]
          },
          "metadata": {},
          "execution_count": 171
        }
      ],
      "source": [
        "#Tabla de retornos\n",
        "datos ={'Diario' : [-0.011483, -0.006839],\n",
        "        'Mensual': [-0.241143, -0.143622],\n",
        "        'Anual': [-2.893715, -1.723469]}\n",
        "filas = ['NRBO', 'VLON'] \n",
        "t_r = pd.DataFrame(datos, index = filas)\n",
        "t_r"
      ]
    },
    {
      "cell_type": "markdown",
      "metadata": {
        "id": "f1Bp2rUTIeCD"
      },
      "source": [
        "b. Calcule los retornos esperados y volatilidades anualizadas."
      ]
    },
    {
      "cell_type": "code",
      "execution_count": null,
      "metadata": {
        "colab": {
          "base_uri": "https://localhost:8080/"
        },
        "id": "-1813UprzoZz",
        "outputId": "f3d3c644-ff43-4ef1-c36d-eeda81eaba17"
      },
      "outputs": [
        {
          "output_type": "execute_result",
          "data": {
            "text/plain": [
              "NRBO   -2.893715\n",
              "VLON   -1.723469\n",
              "dtype: float64"
            ]
          },
          "metadata": {},
          "execution_count": 172
        }
      ],
      "source": [
        "#retorno esperado anual\n",
        "retorno_1y = retorno.mean()*252\n",
        "retorno_1y "
      ]
    },
    {
      "cell_type": "code",
      "execution_count": null,
      "metadata": {
        "colab": {
          "base_uri": "https://localhost:8080/"
        },
        "id": "A7exZZFDzsxl",
        "outputId": "10772878-b595-46f6-9d84-2fd4b5a91479"
      },
      "outputs": [
        {
          "output_type": "execute_result",
          "data": {
            "text/plain": [
              "NRBO    1.559203\n",
              "VLON    1.609557\n",
              "dtype: float64"
            ]
          },
          "metadata": {},
          "execution_count": 173
        }
      ],
      "source": [
        "#Volatilidad anualizada\n",
        "retorno.std()*np.sqrt(252)"
      ]
    },
    {
      "cell_type": "markdown",
      "metadata": {
        "id": "90DPpWp2IlQ5"
      },
      "source": [
        "c. Construya una tabla resumen con las estadísticas descriptivas de las series diarias\n",
        "(media, mediana, desv. estándar, curtosis, simetría) de los dos activos."
      ]
    },
    {
      "cell_type": "code",
      "execution_count": null,
      "metadata": {
        "colab": {
          "base_uri": "https://localhost:8080/"
        },
        "id": "bEVZ4fns0Gu_",
        "outputId": "16b00b71-8d46-4075-b5a0-6072108f058f"
      },
      "outputs": [
        {
          "output_type": "execute_result",
          "data": {
            "text/plain": [
              "NRBO   -0.011483\n",
              "VLON   -0.006839\n",
              "dtype: float64"
            ]
          },
          "metadata": {},
          "execution_count": 174
        }
      ],
      "source": [
        "#Media\n",
        "retorno.mean()"
      ]
    },
    {
      "cell_type": "code",
      "execution_count": null,
      "metadata": {
        "colab": {
          "base_uri": "https://localhost:8080/"
        },
        "id": "eLpNUGzR0Kun",
        "outputId": "0fe9b159-eb96-48fd-a1fa-a51915312fa2"
      },
      "outputs": [
        {
          "output_type": "execute_result",
          "data": {
            "text/plain": [
              "NRBO   -0.008959\n",
              "VLON   -0.008034\n",
              "dtype: float64"
            ]
          },
          "metadata": {},
          "execution_count": 175
        }
      ],
      "source": [
        "#Mediana\n",
        "retorno.median()"
      ]
    },
    {
      "cell_type": "code",
      "execution_count": null,
      "metadata": {
        "colab": {
          "base_uri": "https://localhost:8080/"
        },
        "id": "CBmfJ9Wu0qLr",
        "outputId": "cd62493f-e0d8-46d5-d283-bbb76736b3b9"
      },
      "outputs": [
        {
          "output_type": "execute_result",
          "data": {
            "text/plain": [
              "NRBO    0.098221\n",
              "VLON    0.101393\n",
              "dtype: float64"
            ]
          },
          "metadata": {},
          "execution_count": 176
        }
      ],
      "source": [
        "#Desviación estándar \n",
        "retorno.std()"
      ]
    },
    {
      "cell_type": "code",
      "execution_count": null,
      "metadata": {
        "colab": {
          "base_uri": "https://localhost:8080/"
        },
        "id": "BdasEJH5J59m",
        "outputId": "a3c33051-edfd-4014-f00e-4b34dbe97d52"
      },
      "outputs": [
        {
          "output_type": "execute_result",
          "data": {
            "text/plain": [
              "NRBO    17.085810\n",
              "VLON    48.193091\n",
              "dtype: float64"
            ]
          },
          "metadata": {},
          "execution_count": 177
        }
      ],
      "source": [
        "#Curtosis\n",
        "retorno.kurt()"
      ]
    },
    {
      "cell_type": "code",
      "execution_count": null,
      "metadata": {
        "colab": {
          "base_uri": "https://localhost:8080/"
        },
        "id": "qSRCLeHuKZJp",
        "outputId": "df49e2a2-8774-4406-dd29-b0f586a56e3c"
      },
      "outputs": [
        {
          "output_type": "execute_result",
          "data": {
            "text/plain": [
              "NRBO   -0.058219\n",
              "VLON   -1.466704\n",
              "dtype: float64"
            ]
          },
          "metadata": {},
          "execution_count": 178
        }
      ],
      "source": [
        "#Simetría\n",
        "sim =retorno.skew()\n",
        "sim"
      ]
    },
    {
      "cell_type": "code",
      "execution_count": null,
      "metadata": {
        "colab": {
          "base_uri": "https://localhost:8080/",
          "height": 206
        },
        "id": "HTTVQzUU2Jn3",
        "outputId": "d563aefe-b2e5-4748-8e98-08249b99cad2"
      },
      "outputs": [
        {
          "output_type": "execute_result",
          "data": {
            "text/plain": [
              "               NRBO       VLON\n",
              "Media     -0.011483  -0.006839\n",
              "Mediana   -0.008959  -0.008034\n",
              "Std        0.098221   0.101393\n",
              "Curtosis  17.085810  48.193091\n",
              "Simetría  -0.058219  -1.466704"
            ],
            "text/html": [
              "\n",
              "  <div id=\"df-4278f67c-50f0-45a8-883f-0f69965bdbe4\">\n",
              "    <div class=\"colab-df-container\">\n",
              "      <div>\n",
              "<style scoped>\n",
              "    .dataframe tbody tr th:only-of-type {\n",
              "        vertical-align: middle;\n",
              "    }\n",
              "\n",
              "    .dataframe tbody tr th {\n",
              "        vertical-align: top;\n",
              "    }\n",
              "\n",
              "    .dataframe thead th {\n",
              "        text-align: right;\n",
              "    }\n",
              "</style>\n",
              "<table border=\"1\" class=\"dataframe\">\n",
              "  <thead>\n",
              "    <tr style=\"text-align: right;\">\n",
              "      <th></th>\n",
              "      <th>NRBO</th>\n",
              "      <th>VLON</th>\n",
              "    </tr>\n",
              "  </thead>\n",
              "  <tbody>\n",
              "    <tr>\n",
              "      <th>Media</th>\n",
              "      <td>-0.011483</td>\n",
              "      <td>-0.006839</td>\n",
              "    </tr>\n",
              "    <tr>\n",
              "      <th>Mediana</th>\n",
              "      <td>-0.008959</td>\n",
              "      <td>-0.008034</td>\n",
              "    </tr>\n",
              "    <tr>\n",
              "      <th>Std</th>\n",
              "      <td>0.098221</td>\n",
              "      <td>0.101393</td>\n",
              "    </tr>\n",
              "    <tr>\n",
              "      <th>Curtosis</th>\n",
              "      <td>17.085810</td>\n",
              "      <td>48.193091</td>\n",
              "    </tr>\n",
              "    <tr>\n",
              "      <th>Simetría</th>\n",
              "      <td>-0.058219</td>\n",
              "      <td>-1.466704</td>\n",
              "    </tr>\n",
              "  </tbody>\n",
              "</table>\n",
              "</div>\n",
              "      <button class=\"colab-df-convert\" onclick=\"convertToInteractive('df-4278f67c-50f0-45a8-883f-0f69965bdbe4')\"\n",
              "              title=\"Convert this dataframe to an interactive table.\"\n",
              "              style=\"display:none;\">\n",
              "        \n",
              "  <svg xmlns=\"http://www.w3.org/2000/svg\" height=\"24px\"viewBox=\"0 0 24 24\"\n",
              "       width=\"24px\">\n",
              "    <path d=\"M0 0h24v24H0V0z\" fill=\"none\"/>\n",
              "    <path d=\"M18.56 5.44l.94 2.06.94-2.06 2.06-.94-2.06-.94-.94-2.06-.94 2.06-2.06.94zm-11 1L8.5 8.5l.94-2.06 2.06-.94-2.06-.94L8.5 2.5l-.94 2.06-2.06.94zm10 10l.94 2.06.94-2.06 2.06-.94-2.06-.94-.94-2.06-.94 2.06-2.06.94z\"/><path d=\"M17.41 7.96l-1.37-1.37c-.4-.4-.92-.59-1.43-.59-.52 0-1.04.2-1.43.59L10.3 9.45l-7.72 7.72c-.78.78-.78 2.05 0 2.83L4 21.41c.39.39.9.59 1.41.59.51 0 1.02-.2 1.41-.59l7.78-7.78 2.81-2.81c.8-.78.8-2.07 0-2.86zM5.41 20L4 18.59l7.72-7.72 1.47 1.35L5.41 20z\"/>\n",
              "  </svg>\n",
              "      </button>\n",
              "      \n",
              "  <style>\n",
              "    .colab-df-container {\n",
              "      display:flex;\n",
              "      flex-wrap:wrap;\n",
              "      gap: 12px;\n",
              "    }\n",
              "\n",
              "    .colab-df-convert {\n",
              "      background-color: #E8F0FE;\n",
              "      border: none;\n",
              "      border-radius: 50%;\n",
              "      cursor: pointer;\n",
              "      display: none;\n",
              "      fill: #1967D2;\n",
              "      height: 32px;\n",
              "      padding: 0 0 0 0;\n",
              "      width: 32px;\n",
              "    }\n",
              "\n",
              "    .colab-df-convert:hover {\n",
              "      background-color: #E2EBFA;\n",
              "      box-shadow: 0px 1px 2px rgba(60, 64, 67, 0.3), 0px 1px 3px 1px rgba(60, 64, 67, 0.15);\n",
              "      fill: #174EA6;\n",
              "    }\n",
              "\n",
              "    [theme=dark] .colab-df-convert {\n",
              "      background-color: #3B4455;\n",
              "      fill: #D2E3FC;\n",
              "    }\n",
              "\n",
              "    [theme=dark] .colab-df-convert:hover {\n",
              "      background-color: #434B5C;\n",
              "      box-shadow: 0px 1px 3px 1px rgba(0, 0, 0, 0.15);\n",
              "      filter: drop-shadow(0px 1px 2px rgba(0, 0, 0, 0.3));\n",
              "      fill: #FFFFFF;\n",
              "    }\n",
              "  </style>\n",
              "\n",
              "      <script>\n",
              "        const buttonEl =\n",
              "          document.querySelector('#df-4278f67c-50f0-45a8-883f-0f69965bdbe4 button.colab-df-convert');\n",
              "        buttonEl.style.display =\n",
              "          google.colab.kernel.accessAllowed ? 'block' : 'none';\n",
              "\n",
              "        async function convertToInteractive(key) {\n",
              "          const element = document.querySelector('#df-4278f67c-50f0-45a8-883f-0f69965bdbe4');\n",
              "          const dataTable =\n",
              "            await google.colab.kernel.invokeFunction('convertToInteractive',\n",
              "                                                     [key], {});\n",
              "          if (!dataTable) return;\n",
              "\n",
              "          const docLinkHtml = 'Like what you see? Visit the ' +\n",
              "            '<a target=\"_blank\" href=https://colab.research.google.com/notebooks/data_table.ipynb>data table notebook</a>'\n",
              "            + ' to learn more about interactive tables.';\n",
              "          element.innerHTML = '';\n",
              "          dataTable['output_type'] = 'display_data';\n",
              "          await google.colab.output.renderOutput(dataTable, element);\n",
              "          const docLink = document.createElement('div');\n",
              "          docLink.innerHTML = docLinkHtml;\n",
              "          element.appendChild(docLink);\n",
              "        }\n",
              "      </script>\n",
              "    </div>\n",
              "  </div>\n",
              "  "
            ]
          },
          "metadata": {},
          "execution_count": 179
        }
      ],
      "source": [
        "datos ={'Media' : [-0.011483, -0.006839 ],\n",
        "        'Mediana': [ -0.008959, -0.008034],\n",
        "        'Std': [0.098221, 0.101393],\n",
        "        'Curtosis':[17.085810, 48.193091],\n",
        "        'Simetría':[-0.058219,-1.466704]}\n",
        "\n",
        "filas = ['NRBO','VLON'] \n",
        "t_e = pd.DataFrame(datos, index = filas).transpose()\n",
        "t_e"
      ]
    },
    {
      "cell_type": "markdown",
      "metadata": {
        "id": "hFPA4MLnOBa4"
      },
      "source": [
        "d. Compare las distribuciones empíricas de los dos activos con la distribución teórica normal."
      ]
    },
    {
      "cell_type": "code",
      "execution_count": null,
      "metadata": {
        "colab": {
          "base_uri": "https://localhost:8080/",
          "height": 279
        },
        "id": "No1f2O2j_lxl",
        "outputId": "cb237021-3239-47cb-e115-e1c98fc7e15f"
      },
      "outputs": [
        {
          "output_type": "display_data",
          "data": {
            "text/plain": [
              "<Figure size 432x288 with 1 Axes>"
            ],
            "image/png": "[encoded data removed]"
          },
          "metadata": {
            "needs_background": "light"
          }
        }
      ],
      "source": [
        "x = np.linspace(-0.1,0.1,num=1000)\n",
        "plt.hist(retorno['NRBO'],bins=20,density=True,histtype=\"step\")\n",
        "plt.plot(x,norm.pdf(x,scale=retorno['NRBO'].std()),'k')\n",
        "plt.xlabel(\"Retornos\")\n",
        "plt.ylabel(\"Probabilidad\")\n",
        "plt.axvline(retorno['NRBO'].mean(),color='purple');"
      ]
    },
    {
      "cell_type": "code",
      "execution_count": null,
      "metadata": {
        "colab": {
          "base_uri": "https://localhost:8080/",
          "height": 279
        },
        "id": "mdvyql1G7mmH",
        "outputId": "77118fff-565f-47ee-868b-76df6f2a7a9d"
      },
      "outputs": [
        {
          "output_type": "display_data",
          "data": {
            "text/plain": [
              "<Figure size 432x288 with 1 Axes>"
            ],
            "image/png": "[encoded data removed]"
          },
          "metadata": {
            "needs_background": "light"
          }
        }
      ],
      "source": [
        "x = np.linspace(-0.1,0.1,num=100)\n",
        "plt.hist(retorno['VLON'],bins=20,density=True,histtype=\"step\", color = \"green\")\n",
        "plt.plot(x,norm.pdf(x,scale=retorno['VLON'].std()),'k')\n",
        "plt.xlabel(\"Retornos\")\n",
        "plt.ylabel(\"Probabilidad\")\n",
        "plt.axvline(retorno['VLON'].mean(),color='purple');"
      ]
    },
    {
      "cell_type": "markdown",
      "metadata": {
        "id": "uV9uXlE2ODBp"
      },
      "source": [
        "e. Calcule la matriz de correlaciones de Pearson, rango de Kendall y de Spearman."
      ]
    },
    {
      "cell_type": "code",
      "source": [
        "retorno.corr()"
      ],
      "metadata": {
        "colab": {
          "base_uri": "https://localhost:8080/",
          "height": 112
        },
        "id": "ZRHcz5aeDVVA",
        "outputId": "bc8bf53a-17ee-4e23-b229-27ba5a0dc62b"
      },
      "execution_count": null,
      "outputs": [
        {
          "output_type": "execute_result",
          "data": {
            "text/plain": [
              "         NRBO     VLON\n",
              "NRBO  1.00000  0.05575\n",
              "VLON  0.05575  1.00000"
            ],
            "text/html": [
              "\n",
              "  <div id=\"df-038488fe-0d60-460d-9955-6463984d7f91\">\n",
              "    <div class=\"colab-df-container\">\n",
              "      <div>\n",
              "<style scoped>\n",
              "    .dataframe tbody tr th:only-of-type {\n",
              "        vertical-align: middle;\n",
              "    }\n",
              "\n",
              "    .dataframe tbody tr th {\n",
              "        vertical-align: top;\n",
              "    }\n",
              "\n",
              "    .dataframe thead th {\n",
              "        text-align: right;\n",
              "    }\n",
              "</style>\n",
              "<table border=\"1\" class=\"dataframe\">\n",
              "  <thead>\n",
              "    <tr style=\"text-align: right;\">\n",
              "      <th></th>\n",
              "      <th>NRBO</th>\n",
              "      <th>VLON</th>\n",
              "    </tr>\n",
              "  </thead>\n",
              "  <tbody>\n",
              "    <tr>\n",
              "      <th>NRBO</th>\n",
              "      <td>1.00000</td>\n",
              "      <td>0.05575</td>\n",
              "    </tr>\n",
              "    <tr>\n",
              "      <th>VLON</th>\n",
              "      <td>0.05575</td>\n",
              "      <td>1.00000</td>\n",
              "    </tr>\n",
              "  </tbody>\n",
              "</table>\n",
              "</div>\n",
              "      <button class=\"colab-df-convert\" onclick=\"convertToInteractive('df-038488fe-0d60-460d-9955-6463984d7f91')\"\n",
              "              title=\"Convert this dataframe to an interactive table.\"\n",
              "              style=\"display:none;\">\n",
              "        \n",
              "  <svg xmlns=\"http://www.w3.org/2000/svg\" height=\"24px\"viewBox=\"0 0 24 24\"\n",
              "       width=\"24px\">\n",
              "    <path d=\"M0 0h24v24H0V0z\" fill=\"none\"/>\n",
              "    <path d=\"M18.56 5.44l.94 2.06.94-2.06 2.06-.94-2.06-.94-.94-2.06-.94 2.06-2.06.94zm-11 1L8.5 8.5l.94-2.06 2.06-.94-2.06-.94L8.5 2.5l-.94 2.06-2.06.94zm10 10l.94 2.06.94-2.06 2.06-.94-2.06-.94-.94-2.06-.94 2.06-2.06.94z\"/><path d=\"M17.41 7.96l-1.37-1.37c-.4-.4-.92-.59-1.43-.59-.52 0-1.04.2-1.43.59L10.3 9.45l-7.72 7.72c-.78.78-.78 2.05 0 2.83L4 21.41c.39.39.9.59 1.41.59.51 0 1.02-.2 1.41-.59l7.78-7.78 2.81-2.81c.8-.78.8-2.07 0-2.86zM5.41 20L4 18.59l7.72-7.72 1.47 1.35L5.41 20z\"/>\n",
              "  </svg>\n",
              "      </button>\n",
              "      \n",
              "  <style>\n",
              "    .colab-df-container {\n",
              "      display:flex;\n",
              "      flex-wrap:wrap;\n",
              "      gap: 12px;\n",
              "    }\n",
              "\n",
              "    .colab-df-convert {\n",
              "      background-color: #E8F0FE;\n",
              "      border: none;\n",
              "      border-radius: 50%;\n",
              "      cursor: pointer;\n",
              "      display: none;\n",
              "      fill: #1967D2;\n",
              "      height: 32px;\n",
              "      padding: 0 0 0 0;\n",
              "      width: 32px;\n",
              "    }\n",
              "\n",
              "    .colab-df-convert:hover {\n",
              "      background-color: #E2EBFA;\n",
              "      box-shadow: 0px 1px 2px rgba(60, 64, 67, 0.3), 0px 1px 3px 1px rgba(60, 64, 67, 0.15);\n",
              "      fill: #174EA6;\n",
              "    }\n",
              "\n",
              "    [theme=dark] .colab-df-convert {\n",
              "      background-color: #3B4455;\n",
              "      fill: #D2E3FC;\n",
              "    }\n",
              "\n",
              "    [theme=dark] .colab-df-convert:hover {\n",
              "      background-color: #434B5C;\n",
              "      box-shadow: 0px 1px 3px 1px rgba(0, 0, 0, 0.15);\n",
              "      filter: drop-shadow(0px 1px 2px rgba(0, 0, 0, 0.3));\n",
              "      fill: #FFFFFF;\n",
              "    }\n",
              "  </style>\n",
              "\n",
              "      <script>\n",
              "        const buttonEl =\n",
              "          document.querySelector('#df-038488fe-0d60-460d-9955-6463984d7f91 button.colab-df-convert');\n",
              "        buttonEl.style.display =\n",
              "          google.colab.kernel.accessAllowed ? 'block' : 'none';\n",
              "\n",
              "        async function convertToInteractive(key) {\n",
              "          const element = document.querySelector('#df-038488fe-0d60-460d-9955-6463984d7f91');\n",
              "          const dataTable =\n",
              "            await google.colab.kernel.invokeFunction('convertToInteractive',\n",
              "                                                     [key], {});\n",
              "          if (!dataTable) return;\n",
              "\n",
              "          const docLinkHtml = 'Like what you see? Visit the ' +\n",
              "            '<a target=\"_blank\" href=https://colab.research.google.com/notebooks/data_table.ipynb>data table notebook</a>'\n",
              "            + ' to learn more about interactive tables.';\n",
              "          element.innerHTML = '';\n",
              "          dataTable['output_type'] = 'display_data';\n",
              "          await google.colab.output.renderOutput(dataTable, element);\n",
              "          const docLink = document.createElement('div');\n",
              "          docLink.innerHTML = docLinkHtml;\n",
              "          element.appendChild(docLink);\n",
              "        }\n",
              "      </script>\n",
              "    </div>\n",
              "  </div>\n",
              "  "
            ]
          },
          "metadata": {},
          "execution_count": 182
        }
      ]
    },
    {
      "cell_type": "code",
      "source": [
        "retorno['VLON'].corr(retorno['NRBO'],method= 'pearson')"
      ],
      "metadata": {
        "colab": {
          "base_uri": "https://localhost:8080/"
        },
        "id": "WyYqm9bVJhK5",
        "outputId": "5e6e21e7-3975-4470-8877-a8b9c37416c8"
      },
      "execution_count": null,
      "outputs": [
        {
          "output_type": "execute_result",
          "data": {
            "text/plain": [
              "0.05575027800954629"
            ]
          },
          "metadata": {},
          "execution_count": 183
        }
      ]
    },
    {
      "cell_type": "markdown",
      "source": [
        "Rango de Kendall"
      ],
      "metadata": {
        "id": "fam2QHpOK5Vi"
      }
    },
    {
      "cell_type": "code",
      "source": [
        "stats.kendalltau(retorno['VLON'], retorno['NRBO'])"
      ],
      "metadata": {
        "colab": {
          "base_uri": "https://localhost:8080/"
        },
        "id": "nebmfAoDLtO5",
        "outputId": "a17eef67-f78b-494e-fdd2-37429f224137"
      },
      "execution_count": null,
      "outputs": [
        {
          "output_type": "execute_result",
          "data": {
            "text/plain": [
              "KendalltauResult(correlation=0.13754160055593231, pvalue=7.388796834303888e-06)"
            ]
          },
          "metadata": {},
          "execution_count": 184
        }
      ]
    },
    {
      "cell_type": "code",
      "source": [
        "retorno['VLON'].corr(retorno['NRBO'],method= 'kendall')"
      ],
      "metadata": {
        "colab": {
          "base_uri": "https://localhost:8080/"
        },
        "id": "ppi9sYeGK-Ic",
        "outputId": "519b53f3-e00a-40c6-c5da-e254efa0de71"
      },
      "execution_count": null,
      "outputs": [
        {
          "output_type": "execute_result",
          "data": {
            "text/plain": [
              "0.13754160055593231"
            ]
          },
          "metadata": {},
          "execution_count": 185
        }
      ]
    },
    {
      "cell_type": "markdown",
      "source": [
        "Rango de Spearman"
      ],
      "metadata": {
        "id": "swTTT3HiMpdX"
      }
    },
    {
      "cell_type": "code",
      "source": [
        "stats.spearmanr(retorno['VLON'], retorno['NRBO'])"
      ],
      "metadata": {
        "colab": {
          "base_uri": "https://localhost:8080/"
        },
        "id": "_wfdrwzrMouh",
        "outputId": "a2e2ff25-35b6-4964-8ebb-5124293d8d85"
      },
      "execution_count": null,
      "outputs": [
        {
          "output_type": "execute_result",
          "data": {
            "text/plain": [
              "SpearmanrResult(correlation=0.2065079207836066, pvalue=5.5543157207295645e-06)"
            ]
          },
          "metadata": {},
          "execution_count": 186
        }
      ]
    },
    {
      "cell_type": "code",
      "source": [
        "retorno['VLON'].corr(retorno['NRBO'], method='spearman')"
      ],
      "metadata": {
        "colab": {
          "base_uri": "https://localhost:8080/"
        },
        "id": "_I5zFtPkM3EZ",
        "outputId": "e5ed247a-260d-43e7-c47c-fc29f03e0862"
      },
      "execution_count": null,
      "outputs": [
        {
          "output_type": "execute_result",
          "data": {
            "text/plain": [
              "0.2065079207836066"
            ]
          },
          "metadata": {},
          "execution_count": 187
        }
      ]
    },
    {
      "cell_type": "markdown",
      "metadata": {
        "id": "pAfL7NbbQRuy"
      },
      "source": [
        "2. Escoja 10 acciones de su preferencia en el mercado estadounidense. Para estas acciones descargue las series de precios mensuales para el periodo Dic-17 a Dic-2022. Con esta información:"
      ]
    },
    {
      "cell_type": "markdown",
      "metadata": {
        "id": "IRGDkqT4QXaY"
      },
      "source": [
        "a. Calcule los retornos y volatilidades anualizadas."
      ]
    },
    {
      "cell_type": "code",
      "execution_count": null,
      "metadata": {
        "colab": {
          "base_uri": "https://localhost:8080/",
          "height": 472
        },
        "id": "NI4TsD7DQUeY",
        "outputId": "12d8e09e-5473-482f-b8ba-3008201c8af9"
      },
      "outputs": [
        {
          "output_type": "stream",
          "name": "stdout",
          "text": [
            "[*********************100%***********************]  10 of 10 completed\n"
          ]
        },
        {
          "output_type": "execute_result",
          "data": {
            "text/plain": [
              "                   ACN        ASML        AVGO       CSCO        MSFT  \\\n",
              "Date                                                                    \n",
              "2017-12-01  141.849045  164.651672  211.239883  32.658142   80.554298   \n",
              "2018-01-01  148.900284  192.254654  205.298416  35.420872   89.472351   \n",
              "2018-02-01  149.187469  185.083893  203.998840  38.468391   88.304588   \n",
              "2018-03-01  142.228958  188.086700  195.051254  36.844784   86.354057   \n",
              "2018-04-01  140.097824  178.509979  192.677124  38.047462   88.482872   \n",
              "...                ...         ...         ...        ...         ...   \n",
              "2022-08-01  286.012970  486.230286  490.864014  43.957218  260.182922   \n",
              "2022-09-01  255.117325  413.195129  436.674347  39.317730  232.245483   \n",
              "2022-10-01  281.491669  469.969055  466.229889  44.655106  231.477661   \n",
              "2022-11-01  299.704071  604.965027  546.470398  49.325890  254.422989   \n",
              "2022-12-01  265.752960  545.202087  554.503357  47.262379  239.820007   \n",
              "\n",
              "                  NVDA        QCOM         SAP        TSM         TXN  \n",
              "Date                                                                   \n",
              "2017-12-01   47.886917   55.656052  102.865250  34.281734   90.749435  \n",
              "2018-01-01   60.830009   59.333435  103.680038  39.175430   95.293877  \n",
              "2018-02-01   59.889591   56.508026   95.669449  37.480782   94.667931  \n",
              "2018-03-01   57.348969   48.584373   96.273674  37.835281   90.771126  \n",
              "2018-04-01   55.692303   44.726376  101.464539  33.244205   88.621773  \n",
              "...                ...         ...         ...        ...         ...  \n",
              "2022-08-01  150.856567  130.698624   85.220001  82.414124  162.743378  \n",
              "2022-09-01  121.322899  112.264214   81.250000  67.790184  152.469101  \n",
              "2022-10-01  134.935486  116.914558   96.059998  61.203098  158.231766  \n",
              "2022-11-01  169.186707  125.688614  110.870003  82.512321  179.183060  \n",
              "2022-12-01  146.139999  109.940002  103.190002  74.070168  164.050903  \n",
              "\n",
              "[61 rows x 10 columns]"
            ],
            "text/html": [
              "\n",
              "  <div id=\"df-4a473a31-fc9d-4efa-a298-22d03fce690f\">\n",
              "    <div class=\"colab-df-container\">\n",
              "      <div>\n",
              "<style scoped>\n",
              "    .dataframe tbody tr th:only-of-type {\n",
              "        vertical-align: middle;\n",
              "    }\n",
              "\n",
              "    .dataframe tbody tr th {\n",
              "        vertical-align: top;\n",
              "    }\n",
              "\n",
              "    .dataframe thead th {\n",
              "        text-align: right;\n",
              "    }\n",
              "</style>\n",
              "<table border=\"1\" class=\"dataframe\">\n",
              "  <thead>\n",
              "    <tr style=\"text-align: right;\">\n",
              "      <th></th>\n",
              "      <th>ACN</th>\n",
              "      <th>ASML</th>\n",
              "      <th>AVGO</th>\n",
              "      <th>CSCO</th>\n",
              "      <th>MSFT</th>\n",
              "      <th>NVDA</th>\n",
              "      <th>QCOM</th>\n",
              "      <th>SAP</th>\n",
              "      <th>TSM</th>\n",
              "      <th>TXN</th>\n",
              "    </tr>\n",
              "    <tr>\n",
              "      <th>Date</th>\n",
              "      <th></th>\n",
              "      <th></th>\n",
              "      <th></th>\n",
              "      <th></th>\n",
              "      <th></th>\n",
              "      <th></th>\n",
              "      <th></th>\n",
              "      <th></th>\n",
              "      <th></th>\n",
              "      <th></th>\n",
              "    </tr>\n",
              "  </thead>\n",
              "  <tbody>\n",
              "    <tr>\n",
              "      <th>2017-12-01</th>\n",
              "      <td>141.849045</td>\n",
              "      <td>164.651672</td>\n",
              "      <td>211.239883</td>\n",
              "      <td>32.658142</td>\n",
              "      <td>80.554298</td>\n",
              "      <td>47.886917</td>\n",
              "      <td>55.656052</td>\n",
              "      <td>102.865250</td>\n",
              "      <td>34.281734</td>\n",
              "      <td>90.749435</td>\n",
              "    </tr>\n",
              "    <tr>\n",
              "      <th>2018-01-01</th>\n",
              "      <td>148.900284</td>\n",
              "      <td>192.254654</td>\n",
              "      <td>205.298416</td>\n",
              "      <td>35.420872</td>\n",
              "      <td>89.472351</td>\n",
              "      <td>60.830009</td>\n",
              "      <td>59.333435</td>\n",
              "      <td>103.680038</td>\n",
              "      <td>39.175430</td>\n",
              "      <td>95.293877</td>\n",
              "    </tr>\n",
              "    <tr>\n",
              "      <th>2018-02-01</th>\n",
              "      <td>149.187469</td>\n",
              "      <td>185.083893</td>\n",
              "      <td>203.998840</td>\n",
              "      <td>38.468391</td>\n",
              "      <td>88.304588</td>\n",
              "      <td>59.889591</td>\n",
              "      <td>56.508026</td>\n",
              "      <td>95.669449</td>\n",
              "      <td>37.480782</td>\n",
              "      <td>94.667931</td>\n",
              "    </tr>\n",
              "    <tr>\n",
              "      <th>2018-03-01</th>\n",
              "      <td>142.228958</td>\n",
              "      <td>188.086700</td>\n",
              "      <td>195.051254</td>\n",
              "      <td>36.844784</td>\n",
              "      <td>86.354057</td>\n",
              "      <td>57.348969</td>\n",
              "      <td>48.584373</td>\n",
              "      <td>96.273674</td>\n",
              "      <td>37.835281</td>\n",
              "      <td>90.771126</td>\n",
              "    </tr>\n",
              "    <tr>\n",
              "      <th>2018-04-01</th>\n",
              "      <td>140.097824</td>\n",
              "      <td>178.509979</td>\n",
              "      <td>192.677124</td>\n",
              "      <td>38.047462</td>\n",
              "      <td>88.482872</td>\n",
              "      <td>55.692303</td>\n",
              "      <td>44.726376</td>\n",
              "      <td>101.464539</td>\n",
              "      <td>33.244205</td>\n",
              "      <td>88.621773</td>\n",
              "    </tr>\n",
              "    <tr>\n",
              "      <th>...</th>\n",
              "      <td>...</td>\n",
              "      <td>...</td>\n",
              "      <td>...</td>\n",
              "      <td>...</td>\n",
              "      <td>...</td>\n",
              "      <td>...</td>\n",
              "      <td>...</td>\n",
              "      <td>...</td>\n",
              "      <td>...</td>\n",
              "      <td>...</td>\n",
              "    </tr>\n",
              "    <tr>\n",
              "      <th>2022-08-01</th>\n",
              "      <td>286.012970</td>\n",
              "      <td>486.230286</td>\n",
              "      <td>490.864014</td>\n",
              "      <td>43.957218</td>\n",
              "      <td>260.182922</td>\n",
              "      <td>150.856567</td>\n",
              "      <td>130.698624</td>\n",
              "      <td>85.220001</td>\n",
              "      <td>82.414124</td>\n",
              "      <td>162.743378</td>\n",
              "    </tr>\n",
              "    <tr>\n",
              "      <th>2022-09-01</th>\n",
              "      <td>255.117325</td>\n",
              "      <td>413.195129</td>\n",
              "      <td>436.674347</td>\n",
              "      <td>39.317730</td>\n",
              "      <td>232.245483</td>\n",
              "      <td>121.322899</td>\n",
              "      <td>112.264214</td>\n",
              "      <td>81.250000</td>\n",
              "      <td>67.790184</td>\n",
              "      <td>152.469101</td>\n",
              "    </tr>\n",
              "    <tr>\n",
              "      <th>2022-10-01</th>\n",
              "      <td>281.491669</td>\n",
              "      <td>469.969055</td>\n",
              "      <td>466.229889</td>\n",
              "      <td>44.655106</td>\n",
              "      <td>231.477661</td>\n",
              "      <td>134.935486</td>\n",
              "      <td>116.914558</td>\n",
              "      <td>96.059998</td>\n",
              "      <td>61.203098</td>\n",
              "      <td>158.231766</td>\n",
              "    </tr>\n",
              "    <tr>\n",
              "      <th>2022-11-01</th>\n",
              "      <td>299.704071</td>\n",
              "      <td>604.965027</td>\n",
              "      <td>546.470398</td>\n",
              "      <td>49.325890</td>\n",
              "      <td>254.422989</td>\n",
              "      <td>169.186707</td>\n",
              "      <td>125.688614</td>\n",
              "      <td>110.870003</td>\n",
              "      <td>82.512321</td>\n",
              "      <td>179.183060</td>\n",
              "    </tr>\n",
              "    <tr>\n",
              "      <th>2022-12-01</th>\n",
              "      <td>265.752960</td>\n",
              "      <td>545.202087</td>\n",
              "      <td>554.503357</td>\n",
              "      <td>47.262379</td>\n",
              "      <td>239.820007</td>\n",
              "      <td>146.139999</td>\n",
              "      <td>109.940002</td>\n",
              "      <td>103.190002</td>\n",
              "      <td>74.070168</td>\n",
              "      <td>164.050903</td>\n",
              "    </tr>\n",
              "  </tbody>\n",
              "</table>\n",
              "<p>61 rows × 10 columns</p>\n",
              "</div>\n",
              "      <button class=\"colab-df-convert\" onclick=\"convertToInteractive('df-4a473a31-fc9d-4efa-a298-22d03fce690f')\"\n",
              "              title=\"Convert this dataframe to an interactive table.\"\n",
              "              style=\"display:none;\">\n",
              "        \n",
              "  <svg xmlns=\"http://www.w3.org/2000/svg\" height=\"24px\"viewBox=\"0 0 24 24\"\n",
              "       width=\"24px\">\n",
              "    <path d=\"M0 0h24v24H0V0z\" fill=\"none\"/>\n",
              "    <path d=\"M18.56 5.44l.94 2.06.94-2.06 2.06-.94-2.06-.94-.94-2.06-.94 2.06-2.06.94zm-11 1L8.5 8.5l.94-2.06 2.06-.94-2.06-.94L8.5 2.5l-.94 2.06-2.06.94zm10 10l.94 2.06.94-2.06 2.06-.94-2.06-.94-.94-2.06-.94 2.06-2.06.94z\"/><path d=\"M17.41 7.96l-1.37-1.37c-.4-.4-.92-.59-1.43-.59-.52 0-1.04.2-1.43.59L10.3 9.45l-7.72 7.72c-.78.78-.78 2.05 0 2.83L4 21.41c.39.39.9.59 1.41.59.51 0 1.02-.2 1.41-.59l7.78-7.78 2.81-2.81c.8-.78.8-2.07 0-2.86zM5.41 20L4 18.59l7.72-7.72 1.47 1.35L5.41 20z\"/>\n",
              "  </svg>\n",
              "      </button>\n",
              "      \n",
              "  <style>\n",
              "    .colab-df-container {\n",
              "      display:flex;\n",
              "      flex-wrap:wrap;\n",
              "      gap: 12px;\n",
              "    }\n",
              "\n",
              "    .colab-df-convert {\n",
              "      background-color: #E8F0FE;\n",
              "      border: none;\n",
              "      border-radius: 50%;\n",
              "      cursor: pointer;\n",
              "      display: none;\n",
              "      fill: #1967D2;\n",
              "      height: 32px;\n",
              "      padding: 0 0 0 0;\n",
              "      width: 32px;\n",
              "    }\n",
              "\n",
              "    .colab-df-convert:hover {\n",
              "      background-color: #E2EBFA;\n",
              "      box-shadow: 0px 1px 2px rgba(60, 64, 67, 0.3), 0px 1px 3px 1px rgba(60, 64, 67, 0.15);\n",
              "      fill: #174EA6;\n",
              "    }\n",
              "\n",
              "    [theme=dark] .colab-df-convert {\n",
              "      background-color: #3B4455;\n",
              "      fill: #D2E3FC;\n",
              "    }\n",
              "\n",
              "    [theme=dark] .colab-df-convert:hover {\n",
              "      background-color: #434B5C;\n",
              "      box-shadow: 0px 1px 3px 1px rgba(0, 0, 0, 0.15);\n",
              "      filter: drop-shadow(0px 1px 2px rgba(0, 0, 0, 0.3));\n",
              "      fill: #FFFFFF;\n",
              "    }\n",
              "  </style>\n",
              "\n",
              "      <script>\n",
              "        const buttonEl =\n",
              "          document.querySelector('#df-4a473a31-fc9d-4efa-a298-22d03fce690f button.colab-df-convert');\n",
              "        buttonEl.style.display =\n",
              "          google.colab.kernel.accessAllowed ? 'block' : 'none';\n",
              "\n",
              "        async function convertToInteractive(key) {\n",
              "          const element = document.querySelector('#df-4a473a31-fc9d-4efa-a298-22d03fce690f');\n",
              "          const dataTable =\n",
              "            await google.colab.kernel.invokeFunction('convertToInteractive',\n",
              "                                                     [key], {});\n",
              "          if (!dataTable) return;\n",
              "\n",
              "          const docLinkHtml = 'Like what you see? Visit the ' +\n",
              "            '<a target=\"_blank\" href=https://colab.research.google.com/notebooks/data_table.ipynb>data table notebook</a>'\n",
              "            + ' to learn more about interactive tables.';\n",
              "          element.innerHTML = '';\n",
              "          dataTable['output_type'] = 'display_data';\n",
              "          await google.colab.output.renderOutput(dataTable, element);\n",
              "          const docLink = document.createElement('div');\n",
              "          docLink.innerHTML = docLinkHtml;\n",
              "          element.appendChild(docLink);\n",
              "        }\n",
              "      </script>\n",
              "    </div>\n",
              "  </div>\n",
              "  "
            ]
          },
          "metadata": {},
          "execution_count": 188
        }
      ],
      "source": [
        "df2 = web.DataReader(\"NVDA,TSM,ASML,AVGO,CSCO,ACN,SAP,QCOM,MSFT,TXN\", start = \"2017-12-01\", end = \"2022-12-31\", interval = \"1mo\")[\"Adj Close\"]\n",
        "df2"
      ]
    },
    {
      "cell_type": "markdown",
      "metadata": {
        "id": "fxbGo2ujYsuU"
      },
      "source": [
        "Se calcula la volatilidad con la serie diaria (r2) o con la anual(r2_y1)?"
      ]
    },
    {
      "cell_type": "code",
      "execution_count": null,
      "metadata": {
        "colab": {
          "base_uri": "https://localhost:8080/"
        },
        "id": "3EydI_QwSU0F",
        "outputId": "d8675b18-5ab8-4eb6-e66c-e04a7d943fe1"
      },
      "outputs": [
        {
          "output_type": "execute_result",
          "data": {
            "text/plain": [
              "ACN     0.125561\n",
              "ASML    0.239465\n",
              "AVGO    0.193016\n",
              "CSCO    0.073924\n",
              "MSFT    0.218191\n",
              "NVDA    0.223145\n",
              "QCOM    0.136149\n",
              "SAP     0.000630\n",
              "TSM     0.154080\n",
              "TXN     0.118415\n",
              "dtype: float64"
            ]
          },
          "metadata": {},
          "execution_count": 189
        }
      ],
      "source": [
        "retorno2 = np.log(df2).diff()\n",
        "retorno2 = retorno2.dropna()\n",
        "#Retorno anualizado\n",
        "retorno2_1y = retorno2.mean()*12\n",
        "retorno2_1y"
      ]
    },
    {
      "cell_type": "code",
      "execution_count": null,
      "metadata": {
        "colab": {
          "base_uri": "https://localhost:8080/"
        },
        "id": "1v7UylO0Suoj",
        "outputId": "67fee77e-d93c-406d-e9d0-fb4dd93da40c"
      },
      "outputs": [
        {
          "output_type": "execute_result",
          "data": {
            "text/plain": [
              "ACN     0.264783\n",
              "ASML    0.333663\n",
              "AVGO    0.293006\n",
              "CSCO    0.271049\n",
              "MSFT    0.212894\n",
              "NVDA    0.503973\n",
              "QCOM    0.400824\n",
              "SAP     0.313646\n",
              "TSM     0.346695\n",
              "TXN     0.246340\n",
              "dtype: float64"
            ]
          },
          "metadata": {},
          "execution_count": 190
        }
      ],
      "source": [
        "#volatilidad anualizada\n",
        "volatilidad_1y = retorno2.std()*np.sqrt(12)\n",
        "volatilidad_1y"
      ]
    },
    {
      "cell_type": "markdown",
      "metadata": {
        "id": "HgJbwRvqS9dW"
      },
      "source": [
        "b. Construya una tabla en la que se muestre un ranqueo de los activos de acuerdo con su retorno esperado."
      ]
    },
    {
      "cell_type": "code",
      "execution_count": null,
      "metadata": {
        "colab": {
          "base_uri": "https://localhost:8080/",
          "height": 363
        },
        "id": "Zjaf6wN3-zId",
        "outputId": "8cb22089-7205-47dc-9f9c-64d70cb31d4c"
      },
      "outputs": [
        {
          "output_type": "execute_result",
          "data": {
            "text/plain": [
              "       Retorno  Volatilidad\n",
              "ACN   0.125561     0.264783\n",
              "ASML  0.239465     0.333663\n",
              "AVGO  0.193016     0.293006\n",
              "CSCO  0.073924     0.271049\n",
              "MSFT  0.218191     0.212894\n",
              "NVDA  0.223145     0.503973\n",
              "QCOM  0.136149     0.400824\n",
              "SAP   0.000630     0.313646\n",
              "TSM   0.154080     0.346695\n",
              "TXN   0.118415     0.246340"
            ],
            "text/html": [
              "\n",
              "  <div id=\"df-93861198-34c6-4127-829f-00790e4b0c36\">\n",
              "    <div class=\"colab-df-container\">\n",
              "      <div>\n",
              "<style scoped>\n",
              "    .dataframe tbody tr th:only-of-type {\n",
              "        vertical-align: middle;\n",
              "    }\n",
              "\n",
              "    .dataframe tbody tr th {\n",
              "        vertical-align: top;\n",
              "    }\n",
              "\n",
              "    .dataframe thead th {\n",
              "        text-align: right;\n",
              "    }\n",
              "</style>\n",
              "<table border=\"1\" class=\"dataframe\">\n",
              "  <thead>\n",
              "    <tr style=\"text-align: right;\">\n",
              "      <th></th>\n",
              "      <th>Retorno</th>\n",
              "      <th>Volatilidad</th>\n",
              "    </tr>\n",
              "  </thead>\n",
              "  <tbody>\n",
              "    <tr>\n",
              "      <th>ACN</th>\n",
              "      <td>0.125561</td>\n",
              "      <td>0.264783</td>\n",
              "    </tr>\n",
              "    <tr>\n",
              "      <th>ASML</th>\n",
              "      <td>0.239465</td>\n",
              "      <td>0.333663</td>\n",
              "    </tr>\n",
              "    <tr>\n",
              "      <th>AVGO</th>\n",
              "      <td>0.193016</td>\n",
              "      <td>0.293006</td>\n",
              "    </tr>\n",
              "    <tr>\n",
              "      <th>CSCO</th>\n",
              "      <td>0.073924</td>\n",
              "      <td>0.271049</td>\n",
              "    </tr>\n",
              "    <tr>\n",
              "      <th>MSFT</th>\n",
              "      <td>0.218191</td>\n",
              "      <td>0.212894</td>\n",
              "    </tr>\n",
              "    <tr>\n",
              "      <th>NVDA</th>\n",
              "      <td>0.223145</td>\n",
              "      <td>0.503973</td>\n",
              "    </tr>\n",
              "    <tr>\n",
              "      <th>QCOM</th>\n",
              "      <td>0.136149</td>\n",
              "      <td>0.400824</td>\n",
              "    </tr>\n",
              "    <tr>\n",
              "      <th>SAP</th>\n",
              "      <td>0.000630</td>\n",
              "      <td>0.313646</td>\n",
              "    </tr>\n",
              "    <tr>\n",
              "      <th>TSM</th>\n",
              "      <td>0.154080</td>\n",
              "      <td>0.346695</td>\n",
              "    </tr>\n",
              "    <tr>\n",
              "      <th>TXN</th>\n",
              "      <td>0.118415</td>\n",
              "      <td>0.246340</td>\n",
              "    </tr>\n",
              "  </tbody>\n",
              "</table>\n",
              "</div>\n",
              "      <button class=\"colab-df-convert\" onclick=\"convertToInteractive('df-93861198-34c6-4127-829f-00790e4b0c36')\"\n",
              "              title=\"Convert this dataframe to an interactive table.\"\n",
              "              style=\"display:none;\">\n",
              "        \n",
              "  <svg xmlns=\"http://www.w3.org/2000/svg\" height=\"24px\"viewBox=\"0 0 24 24\"\n",
              "       width=\"24px\">\n",
              "    <path d=\"M0 0h24v24H0V0z\" fill=\"none\"/>\n",
              "    <path d=\"M18.56 5.44l.94 2.06.94-2.06 2.06-.94-2.06-.94-.94-2.06-.94 2.06-2.06.94zm-11 1L8.5 8.5l.94-2.06 2.06-.94-2.06-.94L8.5 2.5l-.94 2.06-2.06.94zm10 10l.94 2.06.94-2.06 2.06-.94-2.06-.94-.94-2.06-.94 2.06-2.06.94z\"/><path d=\"M17.41 7.96l-1.37-1.37c-.4-.4-.92-.59-1.43-.59-.52 0-1.04.2-1.43.59L10.3 9.45l-7.72 7.72c-.78.78-.78 2.05 0 2.83L4 21.41c.39.39.9.59 1.41.59.51 0 1.02-.2 1.41-.59l7.78-7.78 2.81-2.81c.8-.78.8-2.07 0-2.86zM5.41 20L4 18.59l7.72-7.72 1.47 1.35L5.41 20z\"/>\n",
              "  </svg>\n",
              "      </button>\n",
              "      \n",
              "  <style>\n",
              "    .colab-df-container {\n",
              "      display:flex;\n",
              "      flex-wrap:wrap;\n",
              "      gap: 12px;\n",
              "    }\n",
              "\n",
              "    .colab-df-convert {\n",
              "      background-color: #E8F0FE;\n",
              "      border: none;\n",
              "      border-radius: 50%;\n",
              "      cursor: pointer;\n",
              "      display: none;\n",
              "      fill: #1967D2;\n",
              "      height: 32px;\n",
              "      padding: 0 0 0 0;\n",
              "      width: 32px;\n",
              "    }\n",
              "\n",
              "    .colab-df-convert:hover {\n",
              "      background-color: #E2EBFA;\n",
              "      box-shadow: 0px 1px 2px rgba(60, 64, 67, 0.3), 0px 1px 3px 1px rgba(60, 64, 67, 0.15);\n",
              "      fill: #174EA6;\n",
              "    }\n",
              "\n",
              "    [theme=dark] .colab-df-convert {\n",
              "      background-color: #3B4455;\n",
              "      fill: #D2E3FC;\n",
              "    }\n",
              "\n",
              "    [theme=dark] .colab-df-convert:hover {\n",
              "      background-color: #434B5C;\n",
              "      box-shadow: 0px 1px 3px 1px rgba(0, 0, 0, 0.15);\n",
              "      filter: drop-shadow(0px 1px 2px rgba(0, 0, 0, 0.3));\n",
              "      fill: #FFFFFF;\n",
              "    }\n",
              "  </style>\n",
              "\n",
              "      <script>\n",
              "        const buttonEl =\n",
              "          document.querySelector('#df-93861198-34c6-4127-829f-00790e4b0c36 button.colab-df-convert');\n",
              "        buttonEl.style.display =\n",
              "          google.colab.kernel.accessAllowed ? 'block' : 'none';\n",
              "\n",
              "        async function convertToInteractive(key) {\n",
              "          const element = document.querySelector('#df-93861198-34c6-4127-829f-00790e4b0c36');\n",
              "          const dataTable =\n",
              "            await google.colab.kernel.invokeFunction('convertToInteractive',\n",
              "                                                     [key], {});\n",
              "          if (!dataTable) return;\n",
              "\n",
              "          const docLinkHtml = 'Like what you see? Visit the ' +\n",
              "            '<a target=\"_blank\" href=https://colab.research.google.com/notebooks/data_table.ipynb>data table notebook</a>'\n",
              "            + ' to learn more about interactive tables.';\n",
              "          element.innerHTML = '';\n",
              "          dataTable['output_type'] = 'display_data';\n",
              "          await google.colab.output.renderOutput(dataTable, element);\n",
              "          const docLink = document.createElement('div');\n",
              "          docLink.innerHTML = docLinkHtml;\n",
              "          element.appendChild(docLink);\n",
              "        }\n",
              "      </script>\n",
              "    </div>\n",
              "  </div>\n",
              "  "
            ]
          },
          "metadata": {},
          "execution_count": 191
        }
      ],
      "source": [
        "df_retorno_v = pd.concat([retorno2_1y,volatilidad_1y], axis=1)\n",
        "df_retorno_v.columns = [\"Retorno\",\"Volatilidad\"]\n",
        "df_retorno_v"
      ]
    },
    {
      "cell_type": "code",
      "execution_count": null,
      "metadata": {
        "colab": {
          "base_uri": "https://localhost:8080/",
          "height": 363
        },
        "id": "Lt-7_66rCnjx",
        "outputId": "2936f22b-2ac7-4053-d035-84980cc5682a"
      },
      "outputs": [
        {
          "output_type": "execute_result",
          "data": {
            "text/plain": [
              "       Retorno  Volatilidad\n",
              "ASML  0.239465     0.333663\n",
              "NVDA  0.223145     0.503973\n",
              "MSFT  0.218191     0.212894\n",
              "AVGO  0.193016     0.293006\n",
              "TSM   0.154080     0.346695\n",
              "QCOM  0.136149     0.400824\n",
              "ACN   0.125561     0.264783\n",
              "TXN   0.118415     0.246340\n",
              "CSCO  0.073924     0.271049\n",
              "SAP   0.000630     0.313646"
            ],
            "text/html": [
              "\n",
              "  <div id=\"df-42b8dc67-8685-434e-9e99-38f7e394184b\">\n",
              "    <div class=\"colab-df-container\">\n",
              "      <div>\n",
              "<style scoped>\n",
              "    .dataframe tbody tr th:only-of-type {\n",
              "        vertical-align: middle;\n",
              "    }\n",
              "\n",
              "    .dataframe tbody tr th {\n",
              "        vertical-align: top;\n",
              "    }\n",
              "\n",
              "    .dataframe thead th {\n",
              "        text-align: right;\n",
              "    }\n",
              "</style>\n",
              "<table border=\"1\" class=\"dataframe\">\n",
              "  <thead>\n",
              "    <tr style=\"text-align: right;\">\n",
              "      <th></th>\n",
              "      <th>Retorno</th>\n",
              "      <th>Volatilidad</th>\n",
              "    </tr>\n",
              "  </thead>\n",
              "  <tbody>\n",
              "    <tr>\n",
              "      <th>ASML</th>\n",
              "      <td>0.239465</td>\n",
              "      <td>0.333663</td>\n",
              "    </tr>\n",
              "    <tr>\n",
              "      <th>NVDA</th>\n",
              "      <td>0.223145</td>\n",
              "      <td>0.503973</td>\n",
              "    </tr>\n",
              "    <tr>\n",
              "      <th>MSFT</th>\n",
              "      <td>0.218191</td>\n",
              "      <td>0.212894</td>\n",
              "    </tr>\n",
              "    <tr>\n",
              "      <th>AVGO</th>\n",
              "      <td>0.193016</td>\n",
              "      <td>0.293006</td>\n",
              "    </tr>\n",
              "    <tr>\n",
              "      <th>TSM</th>\n",
              "      <td>0.154080</td>\n",
              "      <td>0.346695</td>\n",
              "    </tr>\n",
              "    <tr>\n",
              "      <th>QCOM</th>\n",
              "      <td>0.136149</td>\n",
              "      <td>0.400824</td>\n",
              "    </tr>\n",
              "    <tr>\n",
              "      <th>ACN</th>\n",
              "      <td>0.125561</td>\n",
              "      <td>0.264783</td>\n",
              "    </tr>\n",
              "    <tr>\n",
              "      <th>TXN</th>\n",
              "      <td>0.118415</td>\n",
              "      <td>0.246340</td>\n",
              "    </tr>\n",
              "    <tr>\n",
              "      <th>CSCO</th>\n",
              "      <td>0.073924</td>\n",
              "      <td>0.271049</td>\n",
              "    </tr>\n",
              "    <tr>\n",
              "      <th>SAP</th>\n",
              "      <td>0.000630</td>\n",
              "      <td>0.313646</td>\n",
              "    </tr>\n",
              "  </tbody>\n",
              "</table>\n",
              "</div>\n",
              "      <button class=\"colab-df-convert\" onclick=\"convertToInteractive('df-42b8dc67-8685-434e-9e99-38f7e394184b')\"\n",
              "              title=\"Convert this dataframe to an interactive table.\"\n",
              "              style=\"display:none;\">\n",
              "        \n",
              "  <svg xmlns=\"http://www.w3.org/2000/svg\" height=\"24px\"viewBox=\"0 0 24 24\"\n",
              "       width=\"24px\">\n",
              "    <path d=\"M0 0h24v24H0V0z\" fill=\"none\"/>\n",
              "    <path d=\"M18.56 5.44l.94 2.06.94-2.06 2.06-.94-2.06-.94-.94-2.06-.94 2.06-2.06.94zm-11 1L8.5 8.5l.94-2.06 2.06-.94-2.06-.94L8.5 2.5l-.94 2.06-2.06.94zm10 10l.94 2.06.94-2.06 2.06-.94-2.06-.94-.94-2.06-.94 2.06-2.06.94z\"/><path d=\"M17.41 7.96l-1.37-1.37c-.4-.4-.92-.59-1.43-.59-.52 0-1.04.2-1.43.59L10.3 9.45l-7.72 7.72c-.78.78-.78 2.05 0 2.83L4 21.41c.39.39.9.59 1.41.59.51 0 1.02-.2 1.41-.59l7.78-7.78 2.81-2.81c.8-.78.8-2.07 0-2.86zM5.41 20L4 18.59l7.72-7.72 1.47 1.35L5.41 20z\"/>\n",
              "  </svg>\n",
              "      </button>\n",
              "      \n",
              "  <style>\n",
              "    .colab-df-container {\n",
              "      display:flex;\n",
              "      flex-wrap:wrap;\n",
              "      gap: 12px;\n",
              "    }\n",
              "\n",
              "    .colab-df-convert {\n",
              "      background-color: #E8F0FE;\n",
              "      border: none;\n",
              "      border-radius: 50%;\n",
              "      cursor: pointer;\n",
              "      display: none;\n",
              "      fill: #1967D2;\n",
              "      height: 32px;\n",
              "      padding: 0 0 0 0;\n",
              "      width: 32px;\n",
              "    }\n",
              "\n",
              "    .colab-df-convert:hover {\n",
              "      background-color: #E2EBFA;\n",
              "      box-shadow: 0px 1px 2px rgba(60, 64, 67, 0.3), 0px 1px 3px 1px rgba(60, 64, 67, 0.15);\n",
              "      fill: #174EA6;\n",
              "    }\n",
              "\n",
              "    [theme=dark] .colab-df-convert {\n",
              "      background-color: #3B4455;\n",
              "      fill: #D2E3FC;\n",
              "    }\n",
              "\n",
              "    [theme=dark] .colab-df-convert:hover {\n",
              "      background-color: #434B5C;\n",
              "      box-shadow: 0px 1px 3px 1px rgba(0, 0, 0, 0.15);\n",
              "      filter: drop-shadow(0px 1px 2px rgba(0, 0, 0, 0.3));\n",
              "      fill: #FFFFFF;\n",
              "    }\n",
              "  </style>\n",
              "\n",
              "      <script>\n",
              "        const buttonEl =\n",
              "          document.querySelector('#df-42b8dc67-8685-434e-9e99-38f7e394184b button.colab-df-convert');\n",
              "        buttonEl.style.display =\n",
              "          google.colab.kernel.accessAllowed ? 'block' : 'none';\n",
              "\n",
              "        async function convertToInteractive(key) {\n",
              "          const element = document.querySelector('#df-42b8dc67-8685-434e-9e99-38f7e394184b');\n",
              "          const dataTable =\n",
              "            await google.colab.kernel.invokeFunction('convertToInteractive',\n",
              "                                                     [key], {});\n",
              "          if (!dataTable) return;\n",
              "\n",
              "          const docLinkHtml = 'Like what you see? Visit the ' +\n",
              "            '<a target=\"_blank\" href=https://colab.research.google.com/notebooks/data_table.ipynb>data table notebook</a>'\n",
              "            + ' to learn more about interactive tables.';\n",
              "          element.innerHTML = '';\n",
              "          dataTable['output_type'] = 'display_data';\n",
              "          await google.colab.output.renderOutput(dataTable, element);\n",
              "          const docLink = document.createElement('div');\n",
              "          docLink.innerHTML = docLinkHtml;\n",
              "          element.appendChild(docLink);\n",
              "        }\n",
              "      </script>\n",
              "    </div>\n",
              "  </div>\n",
              "  "
            ]
          },
          "metadata": {},
          "execution_count": 192
        }
      ],
      "source": [
        "df_retorno_v.sort_values(\"Retorno\",ascending=False)"
      ]
    },
    {
      "cell_type": "markdown",
      "metadata": {
        "id": "0pQgX4noTbpq"
      },
      "source": [
        "3. Descargue la serie mensual de precios del índice estadounidense Rusell para el periodo Dic-11 a Dic-2022. Con esta información calcule la volatilidad mensual y anualizada usando las siguientes medidas:"
      ]
    },
    {
      "cell_type": "code",
      "execution_count": null,
      "metadata": {
        "colab": {
          "base_uri": "https://localhost:8080/",
          "height": 472
        },
        "id": "Z1GLCkoDaW7U",
        "outputId": "d5c5e5d9-42c5-4983-e683-85ffec951bd7"
      },
      "outputs": [
        {
          "output_type": "stream",
          "name": "stdout",
          "text": [
            "\r[*********************100%***********************]  1 of 1 completed\n"
          ]
        },
        {
          "output_type": "execute_result",
          "data": {
            "text/plain": [
              "                   Open         High          Low        Close    Adj Close  \\\n",
              "Date                                                                          \n",
              "2011-12-01   734.510010   753.190002   705.780029   740.919983   740.919983   \n",
              "2012-01-01   750.700012   800.219971   736.780029   792.820007   792.820007   \n",
              "2012-02-01   796.989990   833.020020   796.989990   810.940002   810.940002   \n",
              "2012-03-01   813.969971   847.919983   785.409973   830.299988   830.299988   \n",
              "2012-04-01   828.890015   841.059998   783.559998   816.880005   816.880005   \n",
              "...                 ...          ...          ...          ...          ...   \n",
              "2022-08-01  1870.489990  2030.050049  1843.079956  1844.119995  1844.119995   \n",
              "2022-09-01  1826.750000  1906.089966  1650.709961  1664.719971  1664.719971   \n",
              "2022-10-01  1687.280029  1854.569946  1641.939941  1846.859985  1846.859985   \n",
              "2022-11-01  1864.949951  1905.839966  1757.449951  1886.579956  1886.579956   \n",
              "2022-12-01  1891.979980  1898.449951  1722.020020  1761.250000  1761.250000   \n",
              "\n",
              "                 Volume  \n",
              "Date                     \n",
              "2011-12-01  75366190000  \n",
              "2012-01-01  79567560000  \n",
              "2012-02-01  78385710000  \n",
              "2012-03-01  83899660000  \n",
              "2012-04-01  74761710000  \n",
              "...                 ...  \n",
              "2022-08-01  92252350000  \n",
              "2022-09-01  94241020000  \n",
              "2022-10-01  95823760000  \n",
              "2022-11-01  92671910000  \n",
              "2022-12-01  85249330000  \n",
              "\n",
              "[133 rows x 6 columns]"
            ],
            "text/html": [
              "\n",
              "  <div id=\"df-31c2b3d5-c7c2-4651-a726-7104a555a95a\">\n",
              "    <div class=\"colab-df-container\">\n",
              "      <div>\n",
              "<style scoped>\n",
              "    .dataframe tbody tr th:only-of-type {\n",
              "        vertical-align: middle;\n",
              "    }\n",
              "\n",
              "    .dataframe tbody tr th {\n",
              "        vertical-align: top;\n",
              "    }\n",
              "\n",
              "    .dataframe thead th {\n",
              "        text-align: right;\n",
              "    }\n",
              "</style>\n",
              "<table border=\"1\" class=\"dataframe\">\n",
              "  <thead>\n",
              "    <tr style=\"text-align: right;\">\n",
              "      <th></th>\n",
              "      <th>Open</th>\n",
              "      <th>High</th>\n",
              "      <th>Low</th>\n",
              "      <th>Close</th>\n",
              "      <th>Adj Close</th>\n",
              "      <th>Volume</th>\n",
              "    </tr>\n",
              "    <tr>\n",
              "      <th>Date</th>\n",
              "      <th></th>\n",
              "      <th></th>\n",
              "      <th></th>\n",
              "      <th></th>\n",
              "      <th></th>\n",
              "      <th></th>\n",
              "    </tr>\n",
              "  </thead>\n",
              "  <tbody>\n",
              "    <tr>\n",
              "      <th>2011-12-01</th>\n",
              "      <td>734.510010</td>\n",
              "      <td>753.190002</td>\n",
              "      <td>705.780029</td>\n",
              "      <td>740.919983</td>\n",
              "      <td>740.919983</td>\n",
              "      <td>75366190000</td>\n",
              "    </tr>\n",
              "    <tr>\n",
              "      <th>2012-01-01</th>\n",
              "      <td>750.700012</td>\n",
              "      <td>800.219971</td>\n",
              "      <td>736.780029</td>\n",
              "      <td>792.820007</td>\n",
              "      <td>792.820007</td>\n",
              "      <td>79567560000</td>\n",
              "    </tr>\n",
              "    <tr>\n",
              "      <th>2012-02-01</th>\n",
              "      <td>796.989990</td>\n",
              "      <td>833.020020</td>\n",
              "      <td>796.989990</td>\n",
              "      <td>810.940002</td>\n",
              "      <td>810.940002</td>\n",
              "      <td>78385710000</td>\n",
              "    </tr>\n",
              "    <tr>\n",
              "      <th>2012-03-01</th>\n",
              "      <td>813.969971</td>\n",
              "      <td>847.919983</td>\n",
              "      <td>785.409973</td>\n",
              "      <td>830.299988</td>\n",
              "      <td>830.299988</td>\n",
              "      <td>83899660000</td>\n",
              "    </tr>\n",
              "    <tr>\n",
              "      <th>2012-04-01</th>\n",
              "      <td>828.890015</td>\n",
              "      <td>841.059998</td>\n",
              "      <td>783.559998</td>\n",
              "      <td>816.880005</td>\n",
              "      <td>816.880005</td>\n",
              "      <td>74761710000</td>\n",
              "    </tr>\n",
              "    <tr>\n",
              "      <th>...</th>\n",
              "      <td>...</td>\n",
              "      <td>...</td>\n",
              "      <td>...</td>\n",
              "      <td>...</td>\n",
              "      <td>...</td>\n",
              "      <td>...</td>\n",
              "    </tr>\n",
              "    <tr>\n",
              "      <th>2022-08-01</th>\n",
              "      <td>1870.489990</td>\n",
              "      <td>2030.050049</td>\n",
              "      <td>1843.079956</td>\n",
              "      <td>1844.119995</td>\n",
              "      <td>1844.119995</td>\n",
              "      <td>92252350000</td>\n",
              "    </tr>\n",
              "    <tr>\n",
              "      <th>2022-09-01</th>\n",
              "      <td>1826.750000</td>\n",
              "      <td>1906.089966</td>\n",
              "      <td>1650.709961</td>\n",
              "      <td>1664.719971</td>\n",
              "      <td>1664.719971</td>\n",
              "      <td>94241020000</td>\n",
              "    </tr>\n",
              "    <tr>\n",
              "      <th>2022-10-01</th>\n",
              "      <td>1687.280029</td>\n",
              "      <td>1854.569946</td>\n",
              "      <td>1641.939941</td>\n",
              "      <td>1846.859985</td>\n",
              "      <td>1846.859985</td>\n",
              "      <td>95823760000</td>\n",
              "    </tr>\n",
              "    <tr>\n",
              "      <th>2022-11-01</th>\n",
              "      <td>1864.949951</td>\n",
              "      <td>1905.839966</td>\n",
              "      <td>1757.449951</td>\n",
              "      <td>1886.579956</td>\n",
              "      <td>1886.579956</td>\n",
              "      <td>92671910000</td>\n",
              "    </tr>\n",
              "    <tr>\n",
              "      <th>2022-12-01</th>\n",
              "      <td>1891.979980</td>\n",
              "      <td>1898.449951</td>\n",
              "      <td>1722.020020</td>\n",
              "      <td>1761.250000</td>\n",
              "      <td>1761.250000</td>\n",
              "      <td>85249330000</td>\n",
              "    </tr>\n",
              "  </tbody>\n",
              "</table>\n",
              "<p>133 rows × 6 columns</p>\n",
              "</div>\n",
              "      <button class=\"colab-df-convert\" onclick=\"convertToInteractive('df-31c2b3d5-c7c2-4651-a726-7104a555a95a')\"\n",
              "              title=\"Convert this dataframe to an interactive table.\"\n",
              "              style=\"display:none;\">\n",
              "        \n",
              "  <svg xmlns=\"http://www.w3.org/2000/svg\" height=\"24px\"viewBox=\"0 0 24 24\"\n",
              "       width=\"24px\">\n",
              "    <path d=\"M0 0h24v24H0V0z\" fill=\"none\"/>\n",
              "    <path d=\"M18.56 5.44l.94 2.06.94-2.06 2.06-.94-2.06-.94-.94-2.06-.94 2.06-2.06.94zm-11 1L8.5 8.5l.94-2.06 2.06-.94-2.06-.94L8.5 2.5l-.94 2.06-2.06.94zm10 10l.94 2.06.94-2.06 2.06-.94-2.06-.94-.94-2.06-.94 2.06-2.06.94z\"/><path d=\"M17.41 7.96l-1.37-1.37c-.4-.4-.92-.59-1.43-.59-.52 0-1.04.2-1.43.59L10.3 9.45l-7.72 7.72c-.78.78-.78 2.05 0 2.83L4 21.41c.39.39.9.59 1.41.59.51 0 1.02-.2 1.41-.59l7.78-7.78 2.81-2.81c.8-.78.8-2.07 0-2.86zM5.41 20L4 18.59l7.72-7.72 1.47 1.35L5.41 20z\"/>\n",
              "  </svg>\n",
              "      </button>\n",
              "      \n",
              "  <style>\n",
              "    .colab-df-container {\n",
              "      display:flex;\n",
              "      flex-wrap:wrap;\n",
              "      gap: 12px;\n",
              "    }\n",
              "\n",
              "    .colab-df-convert {\n",
              "      background-color: #E8F0FE;\n",
              "      border: none;\n",
              "      border-radius: 50%;\n",
              "      cursor: pointer;\n",
              "      display: none;\n",
              "      fill: #1967D2;\n",
              "      height: 32px;\n",
              "      padding: 0 0 0 0;\n",
              "      width: 32px;\n",
              "    }\n",
              "\n",
              "    .colab-df-convert:hover {\n",
              "      background-color: #E2EBFA;\n",
              "      box-shadow: 0px 1px 2px rgba(60, 64, 67, 0.3), 0px 1px 3px 1px rgba(60, 64, 67, 0.15);\n",
              "      fill: #174EA6;\n",
              "    }\n",
              "\n",
              "    [theme=dark] .colab-df-convert {\n",
              "      background-color: #3B4455;\n",
              "      fill: #D2E3FC;\n",
              "    }\n",
              "\n",
              "    [theme=dark] .colab-df-convert:hover {\n",
              "      background-color: #434B5C;\n",
              "      box-shadow: 0px 1px 3px 1px rgba(0, 0, 0, 0.15);\n",
              "      filter: drop-shadow(0px 1px 2px rgba(0, 0, 0, 0.3));\n",
              "      fill: #FFFFFF;\n",
              "    }\n",
              "  </style>\n",
              "\n",
              "      <script>\n",
              "        const buttonEl =\n",
              "          document.querySelector('#df-31c2b3d5-c7c2-4651-a726-7104a555a95a button.colab-df-convert');\n",
              "        buttonEl.style.display =\n",
              "          google.colab.kernel.accessAllowed ? 'block' : 'none';\n",
              "\n",
              "        async function convertToInteractive(key) {\n",
              "          const element = document.querySelector('#df-31c2b3d5-c7c2-4651-a726-7104a555a95a');\n",
              "          const dataTable =\n",
              "            await google.colab.kernel.invokeFunction('convertToInteractive',\n",
              "                                                     [key], {});\n",
              "          if (!dataTable) return;\n",
              "\n",
              "          const docLinkHtml = 'Like what you see? Visit the ' +\n",
              "            '<a target=\"_blank\" href=https://colab.research.google.com/notebooks/data_table.ipynb>data table notebook</a>'\n",
              "            + ' to learn more about interactive tables.';\n",
              "          element.innerHTML = '';\n",
              "          dataTable['output_type'] = 'display_data';\n",
              "          await google.colab.output.renderOutput(dataTable, element);\n",
              "          const docLink = document.createElement('div');\n",
              "          docLink.innerHTML = docLinkHtml;\n",
              "          element.appendChild(docLink);\n",
              "        }\n",
              "      </script>\n",
              "    </div>\n",
              "  </div>\n",
              "  "
            ]
          },
          "metadata": {},
          "execution_count": 193
        }
      ],
      "source": [
        "df3= web.DataReader(\"^RUT\", start = \"2011-12-01\", end = \"2022-12-31\", interval = \"1mo\")\n",
        "df3"
      ]
    },
    {
      "cell_type": "code",
      "execution_count": null,
      "metadata": {
        "colab": {
          "base_uri": "https://localhost:8080/"
        },
        "id": "zHtUWbOwW_-I",
        "outputId": "e0a421da-524e-44c9-bc63-5280d49d9958"
      },
      "outputs": [
        {
          "output_type": "execute_result",
          "data": {
            "text/plain": [
              "0.006559745674424808"
            ]
          },
          "metadata": {},
          "execution_count": 194
        }
      ],
      "source": [
        "retorno3 = np.log(df3[\"Adj Close\"]).diff()\n",
        "retorno3 = retorno3.dropna()\n",
        "#Retorno mensual\n",
        "retorno3_1mo = retorno3.mean()\n",
        "retorno3_1mo"
      ]
    },
    {
      "cell_type": "code",
      "execution_count": null,
      "metadata": {
        "colab": {
          "base_uri": "https://localhost:8080/"
        },
        "id": "46J_9xagXItG",
        "outputId": "ab3e8a7a-e38f-4dc4-d865-66f318aa8e53"
      },
      "outputs": [
        {
          "output_type": "execute_result",
          "data": {
            "text/plain": [
              "0.0787169480930977"
            ]
          },
          "metadata": {},
          "execution_count": 195
        }
      ],
      "source": [
        "#Retorno anual\n",
        "retorno3_1y = retorno3.mean()*12\n",
        "retorno3_1y"
      ]
    },
    {
      "cell_type": "markdown",
      "metadata": {
        "id": "vWB2y6PQWxCE"
      },
      "source": [
        "a. Desviación estándar"
      ]
    },
    {
      "cell_type": "code",
      "execution_count": null,
      "metadata": {
        "id": "toYChXvl6p-_",
        "colab": {
          "base_uri": "https://localhost:8080/"
        },
        "outputId": "5bfbc973-d2d9-4876-f407-739da4941f85"
      },
      "outputs": [
        {
          "output_type": "execute_result",
          "data": {
            "text/plain": [
              "0.054744795914794225"
            ]
          },
          "metadata": {},
          "execution_count": 196
        }
      ],
      "source": [
        "#Volatilidad mensual\n",
        "retorno3.std()"
      ]
    },
    {
      "cell_type": "code",
      "source": [
        "#Volatilidad anual\n",
        "retorno3.std()*np.sqrt(12)"
      ],
      "metadata": {
        "colab": {
          "base_uri": "https://localhost:8080/"
        },
        "id": "63oukAdeUI8H",
        "outputId": "dcd0b1d1-b8fd-43ee-964e-8a4d10c72bf7"
      },
      "execution_count": null,
      "outputs": [
        {
          "output_type": "execute_result",
          "data": {
            "text/plain": [
              "0.1896415359488254"
            ]
          },
          "metadata": {},
          "execution_count": 197
        }
      ]
    },
    {
      "cell_type": "markdown",
      "source": [
        "b. Parkinson"
      ],
      "metadata": {
        "id": "ESWOdg5NEbn7"
      }
    },
    {
      "cell_type": "code",
      "source": [
        "lnHL = np.log(df3[\"High\"]/df3[\"Low\"]).dropna()\n",
        "sigmaPark_d = ((1/(4*np.log(2)))*lnHL**2)**0.5\n",
        "sigmaPark_d.plot();"
      ],
      "metadata": {
        "colab": {
          "base_uri": "https://localhost:8080/",
          "height": 279
        },
        "id": "PgYCBIBBFzps",
        "outputId": "dd87b719-f196-496e-c6ac-aa77efcb6c95"
      },
      "execution_count": null,
      "outputs": [
        {
          "output_type": "display_data",
          "data": {
            "text/plain": [
              "<Figure size 432x288 with 1 Axes>"
            ],
            "image/png": "[encoded data removed]"
          },
          "metadata": {
            "needs_background": "light"
          }
        }
      ]
    },
    {
      "cell_type": "code",
      "source": [
        "#Volatilidad mensual\n",
        "(sigmaPark_d.mean())*np.sqrt(30)"
      ],
      "metadata": {
        "colab": {
          "base_uri": "https://localhost:8080/"
        },
        "id": "JYx-i8hvEazj",
        "outputId": "510f7d8c-3ae3-4a9b-f8f1-ea880d2920d4"
      },
      "execution_count": null,
      "outputs": [
        {
          "output_type": "execute_result",
          "data": {
            "text/plain": [
              "0.2794051181158537"
            ]
          },
          "metadata": {},
          "execution_count": 199
        }
      ]
    },
    {
      "cell_type": "code",
      "source": [
        "#Volatilidad anualizada de Parkinson\n",
        "(sigmaPark_d.mean())*np.sqrt(252)"
      ],
      "metadata": {
        "colab": {
          "base_uri": "https://localhost:8080/"
        },
        "id": "7cLjFe9yGVmJ",
        "outputId": "031519f3-a4cb-4afa-b297-044b17b27c16"
      },
      "execution_count": null,
      "outputs": [
        {
          "output_type": "execute_result",
          "data": {
            "text/plain": [
              "0.8097929662860792"
            ]
          },
          "metadata": {},
          "execution_count": 200
        }
      ]
    },
    {
      "cell_type": "markdown",
      "metadata": {
        "id": "VsKwkT5DcFVF"
      },
      "source": [
        "c. Garman-Klass"
      ]
    },
    {
      "cell_type": "code",
      "execution_count": null,
      "metadata": {
        "colab": {
          "base_uri": "https://localhost:8080/"
        },
        "id": "r_-rSXhLaC9X",
        "outputId": "fed28041-f782-452c-94d4-ffa662ab131c"
      },
      "outputs": [
        {
          "output_type": "execute_result",
          "data": {
            "text/plain": [
              "0.05239855062447297"
            ]
          },
          "metadata": {},
          "execution_count": 201
        }
      ],
      "source": [
        "#Volatilidad mensual\n",
        "lnHL = np.log(df3[\"High\"]/df3[\"Low\"]).dropna()\n",
        "lnCO = np.log(df3[\"Close\"]/df3[\"Open\"]).dropna()\n",
        "sigmaGK_d = (0.5*lnHL**2-(2*np.log(2)-1)*lnCO**2)**0.5\n",
        "sigmaGK_d.mean()"
      ]
    },
    {
      "cell_type": "code",
      "source": [
        "#Volatilidad anual\n",
        "sigmaGK_d.mean()*np.sqrt(12)"
      ],
      "metadata": {
        "colab": {
          "base_uri": "https://localhost:8080/"
        },
        "id": "lfuEkLVxUyzW",
        "outputId": "53e6ea0c-ac03-44ed-faf1-250bac2893f7"
      },
      "execution_count": null,
      "outputs": [
        {
          "output_type": "execute_result",
          "data": {
            "text/plain": [
              "0.1815139038491142"
            ]
          },
          "metadata": {},
          "execution_count": 202
        }
      ]
    },
    {
      "cell_type": "markdown",
      "source": [
        "d. Volatilidad ponderada exponencial (EWMA) con una lambda de 0.94."
      ],
      "metadata": {
        "id": "5VKB5ZzYEVcn"
      }
    },
    {
      "cell_type": "code",
      "source": [
        "Lambda = 0.94\n",
        "k = len(retorno)\n",
        "td = np.arange(k-1,-1,-1)\n",
        "alpha = Lambda**td\n",
        "pd.Series(alpha).plot();"
      ],
      "metadata": {
        "colab": {
          "base_uri": "https://localhost:8080/",
          "height": 265
        },
        "id": "JNAiP3nPEX1g",
        "outputId": "cb1fd373-5e23-481d-c66f-3d06a3c2e0e0"
      },
      "execution_count": null,
      "outputs": [
        {
          "output_type": "display_data",
          "data": {
            "text/plain": [
              "<Figure size 432x288 with 1 Axes>"
            ],
            "image/png": "[encoded data removed]"
          },
          "metadata": {
            "needs_background": "light"
          }
        }
      ]
    },
    {
      "cell_type": "code",
      "source": [
        "lambda_ = 0.94\n",
        "r = retorno\n",
        "k = 1\n",
        "A_k = (1-lambda_)**lambda_**(k-1)\n",
        "t = 1\n",
        "sigma_EWMA = A_k*r.shift(1)**2\n",
        "sigma_EWMA.plot();"
      ],
      "metadata": {
        "colab": {
          "base_uri": "https://localhost:8080/",
          "height": 277
        },
        "id": "2nHlEeZ8YJNL",
        "outputId": "c1779042-a6c0-4a6f-f907-8efb5f5e2fb6"
      },
      "execution_count": null,
      "outputs": [
        {
          "output_type": "display_data",
          "data": {
            "text/plain": [
              "<Figure size 432x288 with 1 Axes>"
            ],
            "image/png": "[encoded data removed]"
          },
          "metadata": {
            "needs_background": "light"
          }
        }
      ]
    },
    {
      "cell_type": "code",
      "source": [
        "def vol_ewma(retorno,Lambda):\n",
        "  k = len(retorno)\n",
        "  td = np.arange(k-1,-1,-1)\n",
        "  alpha = Lambda**td   #np.power(Lambda,td)\n",
        "  var_s = (retorno**2*alpha).sum()*(1-Lambda) #Varianza diaria promedio\n",
        "  vol_d = np.sqrt(var_s) #Volatilidad diaria\n",
        "  return(vol_d)"
      ],
      "metadata": {
        "id": "RmOIIUw7a3tw"
      },
      "execution_count": null,
      "outputs": []
    },
    {
      "cell_type": "code",
      "source": [
        "def vol_ewma(retorno,Lambda):\n",
        "  k = len(retorno)\n",
        "  td = np.arange(k-1,-1,-1)\n",
        "  alpha = Lambda**td\n",
        "  var_s = (retorno**2*alpha).sum()*(1-Lambda)\n",
        "  vol_d = np.sqrt(var_s)\n",
        "  return(vol_d)\n"
      ],
      "metadata": {
        "id": "lUOTZcTL1e3s"
      },
      "execution_count": null,
      "outputs": []
    },
    {
      "cell_type": "code",
      "source": [
        "Lambda = 0.94\n",
        "k = len(retorno)\n",
        "td = np.arange(k-1,-1,-1)\n",
        "alpha = Lambda**td\n",
        "pd.Series(alpha).plot()"
      ],
      "metadata": {
        "colab": {
          "base_uri": "https://localhost:8080/",
          "height": 282
        },
        "id": "oPz70gQL4qdS",
        "outputId": "547204a1-8b94-4375-c1a5-a5fdc8794c95"
      },
      "execution_count": null,
      "outputs": [
        {
          "output_type": "execute_result",
          "data": {
            "text/plain": [
              "<matplotlib.axes._subplots.AxesSubplot at 0x7f5da815dfa0>"
            ]
          },
          "metadata": {},
          "execution_count": 207
        },
        {
          "output_type": "display_data",
          "data": {
            "text/plain": [
              "<Figure size 432x288 with 1 Axes>"
            ],
            "image/png": "[encoded data removed]"
          },
          "metadata": {
            "needs_background": "light"
          }
        }
      ]
    },
    {
      "cell_type": "code",
      "source": [
        "def ewma_vol(retorno,Lambda):\n",
        "  k = len(retorno)                     \n",
        "  e = np.arange(k-1,-1,-1)             \n",
        "  alpha = Lambda**e                    \n",
        "  s_var = (retorno**2)*alpha           \n",
        "  var = s_var.sum()*(1-Lambda)         \n",
        "  vol = np.sqrt(var)                   \n",
        "  return(vol)"
      ],
      "metadata": {
        "id": "18qbrsa87uU1"
      },
      "execution_count": null,
      "outputs": []
    },
    {
      "cell_type": "code",
      "source": [
        "precios = yf.download('VLON', start = \"2021-01-01\", end = \"2022-12-31\")[\"Adj Close\"]\n",
        "retorno = np.log(precios/precios.shift()).dropna()\n",
        "\n",
        "vol_ewma = ewma_vol(retorno,Lambda=0.94)\n",
        "vol_ewma"
      ],
      "metadata": {
        "colab": {
          "base_uri": "https://localhost:8080/"
        },
        "id": "WwEJCvwC8Atc",
        "outputId": "d3076e2c-6464-4d66-d6a1-15fb9ddd677b"
      },
      "execution_count": null,
      "outputs": [
        {
          "output_type": "stream",
          "name": "stdout",
          "text": [
            "\r[*********************100%***********************]  1 of 1 completed\n"
          ]
        },
        {
          "output_type": "execute_result",
          "data": {
            "text/plain": [
              "0.15590628771585965"
            ]
          },
          "metadata": {},
          "execution_count": 209
        }
      ]
    },
    {
      "cell_type": "code",
      "source": [
        "vol_ewma*np.sqrt(252)"
      ],
      "metadata": {
        "colab": {
          "base_uri": "https://localhost:8080/"
        },
        "id": "S5ycWleW95k8",
        "outputId": "63d97e9b-e01b-4130-eee3-126c84bf72bb"
      },
      "execution_count": null,
      "outputs": [
        {
          "output_type": "execute_result",
          "data": {
            "text/plain": [
              "2.474935590764694"
            ]
          },
          "metadata": {},
          "execution_count": 210
        }
      ]
    },
    {
      "cell_type": "code",
      "source": [
        "preciosn = yf.download('NRBO', start = \"2021-01-01\", end = \"2022-12-31\")[\"Adj Close\"]\n",
        "retornon = np.log(preciosn/preciosn.shift()).dropna()\n",
        "\n",
        "vol_ewman = ewma_vol(retornon,Lambda=0.94)\n",
        "vol_ewman"
      ],
      "metadata": {
        "colab": {
          "base_uri": "https://localhost:8080/"
        },
        "id": "tAlKRzrQ9Ezg",
        "outputId": "434dceba-d24a-4583-bee9-6c6254a5a77d"
      },
      "execution_count": null,
      "outputs": [
        {
          "output_type": "stream",
          "name": "stdout",
          "text": [
            "\r[*********************100%***********************]  1 of 1 completed\n"
          ]
        },
        {
          "output_type": "execute_result",
          "data": {
            "text/plain": [
              "0.15810800605625602"
            ]
          },
          "metadata": {},
          "execution_count": 211
        }
      ]
    },
    {
      "cell_type": "code",
      "source": [
        "vol_ewman*np.sqrt(252)"
      ],
      "metadata": {
        "colab": {
          "base_uri": "https://localhost:8080/"
        },
        "id": "RzMbhUHU96QN",
        "outputId": "c91175d9-1bdd-4756-ba35-54f3f162e154"
      },
      "execution_count": null,
      "outputs": [
        {
          "output_type": "execute_result",
          "data": {
            "text/plain": [
              "2.509886785878886"
            ]
          },
          "metadata": {},
          "execution_count": 212
        }
      ]
    }
  ],
  "metadata": {
    "colab": {
      "provenance": [],
      "include_colab_link": true
    },
    "kernelspec": {
      "display_name": "Python 3",
      "name": "python3"
    },
    "language_info": {
      "name": "python"
    }
  },
  "nbformat": 4,
  "nbformat_minor": 0
}